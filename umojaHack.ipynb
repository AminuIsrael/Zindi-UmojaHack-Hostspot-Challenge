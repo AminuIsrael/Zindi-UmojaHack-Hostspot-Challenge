{
 "cells": [
  {
   "cell_type": "markdown",
   "metadata": {},
   "source": [
    "## Import Modules"
   ]
  },
  {
   "cell_type": "code",
   "execution_count": 1,
   "metadata": {},
   "outputs": [],
   "source": [
    "import pandas as pd\n",
    "import numpy as np\n",
    "import matplotlib.pyplot as plt\n",
    "import seaborn as sns\n",
    "%matplotlib inline"
   ]
  },
  {
   "cell_type": "markdown",
   "metadata": {},
   "source": [
    "## Read data"
   ]
  },
  {
   "cell_type": "code",
   "execution_count": 2,
   "metadata": {},
   "outputs": [],
   "source": [
    "df_train = pd.read_csv('train.csv')\n",
    "df_test = pd.read_csv('test.csv')"
   ]
  },
  {
   "cell_type": "code",
   "execution_count": 3,
   "metadata": {},
   "outputs": [
    {
     "data": {
      "text/plain": [
       "(626644, 32)"
      ]
     },
     "execution_count": 3,
     "metadata": {},
     "output_type": "execute_result"
    }
   ],
   "source": [
    "df_train.shape #Get the number of rows and columns for training data"
   ]
  },
  {
   "cell_type": "code",
   "execution_count": 4,
   "metadata": {},
   "outputs": [
    {
     "data": {
      "text/plain": [
       "(137556, 32)"
      ]
     },
     "execution_count": 4,
     "metadata": {},
     "output_type": "execute_result"
    }
   ],
   "source": [
    "df_test.shape #Get the number of rows and columns for test data"
   ]
  },
  {
   "cell_type": "code",
   "execution_count": 5,
   "metadata": {},
   "outputs": [
    {
     "data": {
      "text/plain": [
       "Index(['ID', 'area', 'date', 'lat', 'lon', 'burn_area', 'climate_aet',\n",
       "       'climate_def', 'climate_pdsi', 'climate_pet', 'climate_pr',\n",
       "       'climate_ro', 'climate_soil', 'climate_srad', 'climate_swe',\n",
       "       'climate_tmmn', 'climate_tmmx', 'climate_vap', 'climate_vpd',\n",
       "       'climate_vs', 'elevation', 'landcover_0', 'landcover_1', 'landcover_2',\n",
       "       'landcover_3', 'landcover_4', 'landcover_5', 'landcover_6',\n",
       "       'landcover_7', 'landcover_8', 'population_density', 'precipitation'],\n",
       "      dtype='object')"
      ]
     },
     "execution_count": 5,
     "metadata": {},
     "output_type": "execute_result"
    }
   ],
   "source": [
    "df_train.columns #Get the columns in the data "
   ]
  },
  {
   "cell_type": "code",
   "execution_count": 6,
   "metadata": {},
   "outputs": [
    {
     "name": "stdout",
     "output_type": "stream",
     "text": [
      "<class 'pandas.core.frame.DataFrame'>\n",
      "RangeIndex: 626644 entries, 0 to 626643\n",
      "Data columns (total 32 columns):\n",
      " #   Column              Non-Null Count   Dtype  \n",
      "---  ------              --------------   -----  \n",
      " 0   ID                  626644 non-null  object \n",
      " 1   area                626644 non-null  int64  \n",
      " 2   date                626644 non-null  object \n",
      " 3   lat                 626644 non-null  float64\n",
      " 4   lon                 626644 non-null  float64\n",
      " 5   burn_area           626644 non-null  float64\n",
      " 6   climate_aet         626644 non-null  float64\n",
      " 7   climate_def         626644 non-null  float64\n",
      " 8   climate_pdsi        626644 non-null  float64\n",
      " 9   climate_pet         626644 non-null  float64\n",
      " 10  climate_pr          626644 non-null  float64\n",
      " 11  climate_ro          626644 non-null  float64\n",
      " 12  climate_soil        626644 non-null  float64\n",
      " 13  climate_srad        626644 non-null  float64\n",
      " 14  climate_swe         626644 non-null  float64\n",
      " 15  climate_tmmn        626644 non-null  float64\n",
      " 16  climate_tmmx        626644 non-null  float64\n",
      " 17  climate_vap         626644 non-null  float64\n",
      " 18  climate_vpd         626644 non-null  float64\n",
      " 19  climate_vs          626644 non-null  float64\n",
      " 20  elevation           626644 non-null  float64\n",
      " 21  landcover_0         626644 non-null  float64\n",
      " 22  landcover_1         626644 non-null  float64\n",
      " 23  landcover_2         626644 non-null  float64\n",
      " 24  landcover_3         626644 non-null  float64\n",
      " 25  landcover_4         626644 non-null  float64\n",
      " 26  landcover_5         626644 non-null  float64\n",
      " 27  landcover_6         626644 non-null  float64\n",
      " 28  landcover_7         626644 non-null  float64\n",
      " 29  landcover_8         626644 non-null  float64\n",
      " 30  population_density  607128 non-null  float64\n",
      " 31  precipitation       626644 non-null  float64\n",
      "dtypes: float64(29), int64(1), object(2)\n",
      "memory usage: 153.0+ MB\n"
     ]
    }
   ],
   "source": [
    "#Get info about data\n",
    "df_train.info()"
   ]
  },
  {
   "cell_type": "code",
   "execution_count": 7,
   "metadata": {},
   "outputs": [
    {
     "name": "stdout",
     "output_type": "stream",
     "text": [
      "<class 'pandas.core.frame.DataFrame'>\n",
      "RangeIndex: 137556 entries, 0 to 137555\n",
      "Data columns (total 32 columns):\n",
      " #   Column              Non-Null Count   Dtype  \n",
      "---  ------              --------------   -----  \n",
      " 0   ID                  137556 non-null  object \n",
      " 1   area                137556 non-null  int64  \n",
      " 2   date                137556 non-null  object \n",
      " 3   lat                 137556 non-null  float64\n",
      " 4   lon                 137556 non-null  float64\n",
      " 5   burn_area           137556 non-null  int64  \n",
      " 6   climate_aet         137556 non-null  float64\n",
      " 7   climate_def         137556 non-null  float64\n",
      " 8   climate_pdsi        137556 non-null  float64\n",
      " 9   climate_pet         137556 non-null  float64\n",
      " 10  climate_pr          137556 non-null  float64\n",
      " 11  climate_ro          137556 non-null  float64\n",
      " 12  climate_soil        137556 non-null  float64\n",
      " 13  climate_srad        137556 non-null  float64\n",
      " 14  climate_swe         137556 non-null  float64\n",
      " 15  climate_tmmn        137556 non-null  float64\n",
      " 16  climate_tmmx        137556 non-null  float64\n",
      " 17  climate_vap         137556 non-null  float64\n",
      " 18  climate_vpd         137556 non-null  float64\n",
      " 19  climate_vs          137556 non-null  float64\n",
      " 20  elevation           137556 non-null  float64\n",
      " 21  landcover_0         137556 non-null  float64\n",
      " 22  landcover_1         137556 non-null  float64\n",
      " 23  landcover_2         137556 non-null  float64\n",
      " 24  landcover_3         137556 non-null  float64\n",
      " 25  landcover_4         137556 non-null  float64\n",
      " 26  landcover_5         137556 non-null  float64\n",
      " 27  landcover_6         137556 non-null  float64\n",
      " 28  landcover_7         137556 non-null  float64\n",
      " 29  landcover_8         137556 non-null  float64\n",
      " 30  population_density  133272 non-null  float64\n",
      " 31  precipitation       137556 non-null  float64\n",
      "dtypes: float64(28), int64(2), object(2)\n",
      "memory usage: 33.6+ MB\n"
     ]
    }
   ],
   "source": [
    "#Get info about data_test\n",
    "df_test.info()"
   ]
  },
  {
   "cell_type": "code",
   "execution_count": 8,
   "metadata": {},
   "outputs": [],
   "source": [
    "#All the values are complete except population_density"
   ]
  },
  {
   "cell_type": "code",
   "execution_count": 9,
   "metadata": {},
   "outputs": [
    {
     "data": {
      "text/html": [
       "<div>\n",
       "<style scoped>\n",
       "    .dataframe tbody tr th:only-of-type {\n",
       "        vertical-align: middle;\n",
       "    }\n",
       "\n",
       "    .dataframe tbody tr th {\n",
       "        vertical-align: top;\n",
       "    }\n",
       "\n",
       "    .dataframe thead th {\n",
       "        text-align: right;\n",
       "    }\n",
       "</style>\n",
       "<table border=\"1\" class=\"dataframe\">\n",
       "  <thead>\n",
       "    <tr style=\"text-align: right;\">\n",
       "      <th></th>\n",
       "      <th>area</th>\n",
       "      <th>lat</th>\n",
       "      <th>lon</th>\n",
       "      <th>burn_area</th>\n",
       "      <th>climate_aet</th>\n",
       "      <th>climate_def</th>\n",
       "      <th>climate_pdsi</th>\n",
       "      <th>climate_pet</th>\n",
       "      <th>climate_pr</th>\n",
       "      <th>climate_ro</th>\n",
       "      <th>...</th>\n",
       "      <th>landcover_1</th>\n",
       "      <th>landcover_2</th>\n",
       "      <th>landcover_3</th>\n",
       "      <th>landcover_4</th>\n",
       "      <th>landcover_5</th>\n",
       "      <th>landcover_6</th>\n",
       "      <th>landcover_7</th>\n",
       "      <th>landcover_8</th>\n",
       "      <th>population_density</th>\n",
       "      <th>precipitation</th>\n",
       "    </tr>\n",
       "  </thead>\n",
       "  <tbody>\n",
       "    <tr>\n",
       "      <th>count</th>\n",
       "      <td>626644.000000</td>\n",
       "      <td>626644.000000</td>\n",
       "      <td>626644.000000</td>\n",
       "      <td>626644.000000</td>\n",
       "      <td>626644.000000</td>\n",
       "      <td>626644.000000</td>\n",
       "      <td>626644.000000</td>\n",
       "      <td>626644.000000</td>\n",
       "      <td>626644.000000</td>\n",
       "      <td>626644.000000</td>\n",
       "      <td>...</td>\n",
       "      <td>626644.000000</td>\n",
       "      <td>626644.000000</td>\n",
       "      <td>6.266440e+05</td>\n",
       "      <td>626644.000000</td>\n",
       "      <td>626644.000000</td>\n",
       "      <td>626644.000000</td>\n",
       "      <td>626644.000000</td>\n",
       "      <td>626644.000000</td>\n",
       "      <td>607128.000000</td>\n",
       "      <td>626644.000000</td>\n",
       "    </tr>\n",
       "    <tr>\n",
       "      <th>mean</th>\n",
       "      <td>1910.000000</td>\n",
       "      <td>23.743978</td>\n",
       "      <td>-2.859994</td>\n",
       "      <td>0.014904</td>\n",
       "      <td>868.907429</td>\n",
       "      <td>223.509282</td>\n",
       "      <td>-258.714705</td>\n",
       "      <td>1092.416972</td>\n",
       "      <td>125.868639</td>\n",
       "      <td>38.823932</td>\n",
       "      <td>...</td>\n",
       "      <td>0.000036</td>\n",
       "      <td>0.771477</td>\n",
       "      <td>1.397882e-07</td>\n",
       "      <td>0.188189</td>\n",
       "      <td>0.000266</td>\n",
       "      <td>0.026382</td>\n",
       "      <td>0.000040</td>\n",
       "      <td>0.001157</td>\n",
       "      <td>30.022468</td>\n",
       "      <td>0.181763</td>\n",
       "    </tr>\n",
       "    <tr>\n",
       "      <th>std</th>\n",
       "      <td>1103.028532</td>\n",
       "      <td>3.892348</td>\n",
       "      <td>4.397921</td>\n",
       "      <td>0.061526</td>\n",
       "      <td>287.975104</td>\n",
       "      <td>372.066304</td>\n",
       "      <td>331.469776</td>\n",
       "      <td>170.072823</td>\n",
       "      <td>86.558539</td>\n",
       "      <td>55.748898</td>\n",
       "      <td>...</td>\n",
       "      <td>0.000709</td>\n",
       "      <td>0.327120</td>\n",
       "      <td>7.314258e-06</td>\n",
       "      <td>0.314002</td>\n",
       "      <td>0.004851</td>\n",
       "      <td>0.086140</td>\n",
       "      <td>0.000533</td>\n",
       "      <td>0.009156</td>\n",
       "      <td>175.864136</td>\n",
       "      <td>0.130271</td>\n",
       "    </tr>\n",
       "    <tr>\n",
       "      <th>min</th>\n",
       "      <td>0.000000</td>\n",
       "      <td>12.416000</td>\n",
       "      <td>-13.394000</td>\n",
       "      <td>0.000000</td>\n",
       "      <td>7.438208</td>\n",
       "      <td>0.000000</td>\n",
       "      <td>-1387.832916</td>\n",
       "      <td>510.639390</td>\n",
       "      <td>0.000000</td>\n",
       "      <td>0.000000</td>\n",
       "      <td>...</td>\n",
       "      <td>0.000000</td>\n",
       "      <td>0.000000</td>\n",
       "      <td>0.000000e+00</td>\n",
       "      <td>0.000000</td>\n",
       "      <td>0.000000</td>\n",
       "      <td>0.000000</td>\n",
       "      <td>0.000000</td>\n",
       "      <td>0.000000</td>\n",
       "      <td>0.000000</td>\n",
       "      <td>0.000000</td>\n",
       "    </tr>\n",
       "    <tr>\n",
       "      <th>25%</th>\n",
       "      <td>955.000000</td>\n",
       "      <td>20.741000</td>\n",
       "      <td>-6.146000</td>\n",
       "      <td>0.000000</td>\n",
       "      <td>781.852462</td>\n",
       "      <td>0.000000</td>\n",
       "      <td>-467.326288</td>\n",
       "      <td>973.879811</td>\n",
       "      <td>54.756412</td>\n",
       "      <td>2.998071</td>\n",
       "      <td>...</td>\n",
       "      <td>0.000000</td>\n",
       "      <td>0.590311</td>\n",
       "      <td>0.000000e+00</td>\n",
       "      <td>0.000000</td>\n",
       "      <td>0.000000</td>\n",
       "      <td>0.000000</td>\n",
       "      <td>0.000000</td>\n",
       "      <td>0.000000</td>\n",
       "      <td>8.140170</td>\n",
       "      <td>0.078666</td>\n",
       "    </tr>\n",
       "    <tr>\n",
       "      <th>50%</th>\n",
       "      <td>1910.000000</td>\n",
       "      <td>24.107000</td>\n",
       "      <td>-2.945000</td>\n",
       "      <td>0.000000</td>\n",
       "      <td>954.076835</td>\n",
       "      <td>0.000000</td>\n",
       "      <td>-293.756227</td>\n",
       "      <td>1068.663459</td>\n",
       "      <td>128.187523</td>\n",
       "      <td>8.000000</td>\n",
       "      <td>...</td>\n",
       "      <td>0.000000</td>\n",
       "      <td>0.975270</td>\n",
       "      <td>0.000000e+00</td>\n",
       "      <td>0.000000</td>\n",
       "      <td>0.000000</td>\n",
       "      <td>0.000307</td>\n",
       "      <td>0.000000</td>\n",
       "      <td>0.000000</td>\n",
       "      <td>14.146377</td>\n",
       "      <td>0.171292</td>\n",
       "    </tr>\n",
       "    <tr>\n",
       "      <th>75%</th>\n",
       "      <td>2865.000000</td>\n",
       "      <td>26.956000</td>\n",
       "      <td>0.857000</td>\n",
       "      <td>0.000000</td>\n",
       "      <td>1056.306879</td>\n",
       "      <td>333.155481</td>\n",
       "      <td>-110.273937</td>\n",
       "      <td>1184.196489</td>\n",
       "      <td>184.165079</td>\n",
       "      <td>63.968079</td>\n",
       "      <td>...</td>\n",
       "      <td>0.000000</td>\n",
       "      <td>1.000000</td>\n",
       "      <td>0.000000e+00</td>\n",
       "      <td>0.298845</td>\n",
       "      <td>0.000000</td>\n",
       "      <td>0.010451</td>\n",
       "      <td>0.000000</td>\n",
       "      <td>0.000000</td>\n",
       "      <td>26.957529</td>\n",
       "      <td>0.261780</td>\n",
       "    </tr>\n",
       "    <tr>\n",
       "      <th>max</th>\n",
       "      <td>3820.000000</td>\n",
       "      <td>31.096000</td>\n",
       "      <td>5.296000</td>\n",
       "      <td>0.952641</td>\n",
       "      <td>1666.262670</td>\n",
       "      <td>2048.897442</td>\n",
       "      <td>1131.222423</td>\n",
       "      <td>2125.220848</td>\n",
       "      <td>1111.881507</td>\n",
       "      <td>1028.775818</td>\n",
       "      <td>...</td>\n",
       "      <td>0.044034</td>\n",
       "      <td>1.000000</td>\n",
       "      <td>6.147222e-04</td>\n",
       "      <td>1.000000</td>\n",
       "      <td>0.197675</td>\n",
       "      <td>0.991276</td>\n",
       "      <td>0.023099</td>\n",
       "      <td>0.478727</td>\n",
       "      <td>9514.004270</td>\n",
       "      <td>1.187434</td>\n",
       "    </tr>\n",
       "  </tbody>\n",
       "</table>\n",
       "<p>8 rows × 30 columns</p>\n",
       "</div>"
      ],
      "text/plain": [
       "                area            lat            lon      burn_area  \\\n",
       "count  626644.000000  626644.000000  626644.000000  626644.000000   \n",
       "mean     1910.000000      23.743978      -2.859994       0.014904   \n",
       "std      1103.028532       3.892348       4.397921       0.061526   \n",
       "min         0.000000      12.416000     -13.394000       0.000000   \n",
       "25%       955.000000      20.741000      -6.146000       0.000000   \n",
       "50%      1910.000000      24.107000      -2.945000       0.000000   \n",
       "75%      2865.000000      26.956000       0.857000       0.000000   \n",
       "max      3820.000000      31.096000       5.296000       0.952641   \n",
       "\n",
       "         climate_aet    climate_def   climate_pdsi    climate_pet  \\\n",
       "count  626644.000000  626644.000000  626644.000000  626644.000000   \n",
       "mean      868.907429     223.509282    -258.714705    1092.416972   \n",
       "std       287.975104     372.066304     331.469776     170.072823   \n",
       "min         7.438208       0.000000   -1387.832916     510.639390   \n",
       "25%       781.852462       0.000000    -467.326288     973.879811   \n",
       "50%       954.076835       0.000000    -293.756227    1068.663459   \n",
       "75%      1056.306879     333.155481    -110.273937    1184.196489   \n",
       "max      1666.262670    2048.897442    1131.222423    2125.220848   \n",
       "\n",
       "          climate_pr     climate_ro  ...    landcover_1    landcover_2  \\\n",
       "count  626644.000000  626644.000000  ...  626644.000000  626644.000000   \n",
       "mean      125.868639      38.823932  ...       0.000036       0.771477   \n",
       "std        86.558539      55.748898  ...       0.000709       0.327120   \n",
       "min         0.000000       0.000000  ...       0.000000       0.000000   \n",
       "25%        54.756412       2.998071  ...       0.000000       0.590311   \n",
       "50%       128.187523       8.000000  ...       0.000000       0.975270   \n",
       "75%       184.165079      63.968079  ...       0.000000       1.000000   \n",
       "max      1111.881507    1028.775818  ...       0.044034       1.000000   \n",
       "\n",
       "        landcover_3    landcover_4    landcover_5    landcover_6  \\\n",
       "count  6.266440e+05  626644.000000  626644.000000  626644.000000   \n",
       "mean   1.397882e-07       0.188189       0.000266       0.026382   \n",
       "std    7.314258e-06       0.314002       0.004851       0.086140   \n",
       "min    0.000000e+00       0.000000       0.000000       0.000000   \n",
       "25%    0.000000e+00       0.000000       0.000000       0.000000   \n",
       "50%    0.000000e+00       0.000000       0.000000       0.000307   \n",
       "75%    0.000000e+00       0.298845       0.000000       0.010451   \n",
       "max    6.147222e-04       1.000000       0.197675       0.991276   \n",
       "\n",
       "         landcover_7    landcover_8  population_density  precipitation  \n",
       "count  626644.000000  626644.000000       607128.000000  626644.000000  \n",
       "mean        0.000040       0.001157           30.022468       0.181763  \n",
       "std         0.000533       0.009156          175.864136       0.130271  \n",
       "min         0.000000       0.000000            0.000000       0.000000  \n",
       "25%         0.000000       0.000000            8.140170       0.078666  \n",
       "50%         0.000000       0.000000           14.146377       0.171292  \n",
       "75%         0.000000       0.000000           26.957529       0.261780  \n",
       "max         0.023099       0.478727         9514.004270       1.187434  \n",
       "\n",
       "[8 rows x 30 columns]"
      ]
     },
     "execution_count": 9,
     "metadata": {},
     "output_type": "execute_result"
    }
   ],
   "source": [
    "df_train.describe()"
   ]
  },
  {
   "cell_type": "code",
   "execution_count": 10,
   "metadata": {},
   "outputs": [
    {
     "data": {
      "text/html": [
       "<div>\n",
       "<style scoped>\n",
       "    .dataframe tbody tr th:only-of-type {\n",
       "        vertical-align: middle;\n",
       "    }\n",
       "\n",
       "    .dataframe tbody tr th {\n",
       "        vertical-align: top;\n",
       "    }\n",
       "\n",
       "    .dataframe thead th {\n",
       "        text-align: right;\n",
       "    }\n",
       "</style>\n",
       "<table border=\"1\" class=\"dataframe\">\n",
       "  <thead>\n",
       "    <tr style=\"text-align: right;\">\n",
       "      <th></th>\n",
       "      <th>area</th>\n",
       "      <th>lat</th>\n",
       "      <th>lon</th>\n",
       "      <th>burn_area</th>\n",
       "      <th>climate_aet</th>\n",
       "      <th>climate_def</th>\n",
       "      <th>climate_pdsi</th>\n",
       "      <th>climate_pet</th>\n",
       "      <th>climate_pr</th>\n",
       "      <th>climate_ro</th>\n",
       "      <th>...</th>\n",
       "      <th>landcover_1</th>\n",
       "      <th>landcover_2</th>\n",
       "      <th>landcover_3</th>\n",
       "      <th>landcover_4</th>\n",
       "      <th>landcover_5</th>\n",
       "      <th>landcover_6</th>\n",
       "      <th>landcover_7</th>\n",
       "      <th>landcover_8</th>\n",
       "      <th>population_density</th>\n",
       "      <th>precipitation</th>\n",
       "    </tr>\n",
       "  </thead>\n",
       "  <tbody>\n",
       "    <tr>\n",
       "      <th>count</th>\n",
       "      <td>137556.000000</td>\n",
       "      <td>137556.000000</td>\n",
       "      <td>137556.000000</td>\n",
       "      <td>137556.0</td>\n",
       "      <td>137556.000000</td>\n",
       "      <td>137556.000000</td>\n",
       "      <td>137556.000000</td>\n",
       "      <td>137556.000000</td>\n",
       "      <td>137556.000000</td>\n",
       "      <td>137556.000000</td>\n",
       "      <td>...</td>\n",
       "      <td>137556.000000</td>\n",
       "      <td>137556.000000</td>\n",
       "      <td>1.375560e+05</td>\n",
       "      <td>137556.000000</td>\n",
       "      <td>137556.000000</td>\n",
       "      <td>137556.000000</td>\n",
       "      <td>137556.000000</td>\n",
       "      <td>137556.000000</td>\n",
       "      <td>133272.000000</td>\n",
       "      <td>137556.000000</td>\n",
       "    </tr>\n",
       "    <tr>\n",
       "      <th>mean</th>\n",
       "      <td>1910.000000</td>\n",
       "      <td>23.743978</td>\n",
       "      <td>-2.859994</td>\n",
       "      <td>0.0</td>\n",
       "      <td>864.402831</td>\n",
       "      <td>260.259443</td>\n",
       "      <td>-515.509934</td>\n",
       "      <td>1124.662595</td>\n",
       "      <td>110.082514</td>\n",
       "      <td>24.097503</td>\n",
       "      <td>...</td>\n",
       "      <td>0.000046</td>\n",
       "      <td>0.767847</td>\n",
       "      <td>2.927091e-07</td>\n",
       "      <td>0.189053</td>\n",
       "      <td>0.000300</td>\n",
       "      <td>0.029133</td>\n",
       "      <td>0.000038</td>\n",
       "      <td>0.001201</td>\n",
       "      <td>35.321161</td>\n",
       "      <td>0.171752</td>\n",
       "    </tr>\n",
       "    <tr>\n",
       "      <th>std</th>\n",
       "      <td>1103.031661</td>\n",
       "      <td>3.892359</td>\n",
       "      <td>4.397933</td>\n",
       "      <td>0.0</td>\n",
       "      <td>307.704470</td>\n",
       "      <td>400.966028</td>\n",
       "      <td>483.996616</td>\n",
       "      <td>169.401335</td>\n",
       "      <td>74.112202</td>\n",
       "      <td>40.382936</td>\n",
       "      <td>...</td>\n",
       "      <td>0.000731</td>\n",
       "      <td>0.328336</td>\n",
       "      <td>1.031334e-05</td>\n",
       "      <td>0.314645</td>\n",
       "      <td>0.004824</td>\n",
       "      <td>0.087055</td>\n",
       "      <td>0.000552</td>\n",
       "      <td>0.009484</td>\n",
       "      <td>192.331234</td>\n",
       "      <td>0.120393</td>\n",
       "    </tr>\n",
       "    <tr>\n",
       "      <th>min</th>\n",
       "      <td>0.000000</td>\n",
       "      <td>12.416000</td>\n",
       "      <td>-13.394000</td>\n",
       "      <td>0.0</td>\n",
       "      <td>16.445837</td>\n",
       "      <td>0.000000</td>\n",
       "      <td>-1679.813736</td>\n",
       "      <td>563.465222</td>\n",
       "      <td>0.000000</td>\n",
       "      <td>0.000000</td>\n",
       "      <td>...</td>\n",
       "      <td>0.000000</td>\n",
       "      <td>0.000000</td>\n",
       "      <td>0.000000e+00</td>\n",
       "      <td>0.000000</td>\n",
       "      <td>0.000000</td>\n",
       "      <td>0.000000</td>\n",
       "      <td>0.000000</td>\n",
       "      <td>0.000000</td>\n",
       "      <td>0.000000</td>\n",
       "      <td>0.000000</td>\n",
       "    </tr>\n",
       "    <tr>\n",
       "      <th>25%</th>\n",
       "      <td>955.000000</td>\n",
       "      <td>20.741000</td>\n",
       "      <td>-6.146000</td>\n",
       "      <td>0.0</td>\n",
       "      <td>726.854412</td>\n",
       "      <td>0.000000</td>\n",
       "      <td>-906.618057</td>\n",
       "      <td>1009.217701</td>\n",
       "      <td>48.235036</td>\n",
       "      <td>2.265291</td>\n",
       "      <td>...</td>\n",
       "      <td>0.000000</td>\n",
       "      <td>0.593401</td>\n",
       "      <td>0.000000e+00</td>\n",
       "      <td>0.000000</td>\n",
       "      <td>0.000000</td>\n",
       "      <td>0.000000</td>\n",
       "      <td>0.000000</td>\n",
       "      <td>0.000000</td>\n",
       "      <td>9.775668</td>\n",
       "      <td>0.077209</td>\n",
       "    </tr>\n",
       "    <tr>\n",
       "      <th>50%</th>\n",
       "      <td>1910.000000</td>\n",
       "      <td>24.107000</td>\n",
       "      <td>-2.945000</td>\n",
       "      <td>0.0</td>\n",
       "      <td>971.481037</td>\n",
       "      <td>5.584749</td>\n",
       "      <td>-522.843698</td>\n",
       "      <td>1099.403502</td>\n",
       "      <td>115.503642</td>\n",
       "      <td>6.000000</td>\n",
       "      <td>...</td>\n",
       "      <td>0.000000</td>\n",
       "      <td>0.969502</td>\n",
       "      <td>0.000000e+00</td>\n",
       "      <td>0.000000</td>\n",
       "      <td>0.000000</td>\n",
       "      <td>0.000922</td>\n",
       "      <td>0.000000</td>\n",
       "      <td>0.000000</td>\n",
       "      <td>17.316966</td>\n",
       "      <td>0.165985</td>\n",
       "    </tr>\n",
       "    <tr>\n",
       "      <th>75%</th>\n",
       "      <td>2865.000000</td>\n",
       "      <td>26.956000</td>\n",
       "      <td>0.857000</td>\n",
       "      <td>0.0</td>\n",
       "      <td>1077.329737</td>\n",
       "      <td>419.024190</td>\n",
       "      <td>-237.316150</td>\n",
       "      <td>1216.970856</td>\n",
       "      <td>158.824573</td>\n",
       "      <td>28.320487</td>\n",
       "      <td>...</td>\n",
       "      <td>0.000000</td>\n",
       "      <td>1.000000</td>\n",
       "      <td>0.000000e+00</td>\n",
       "      <td>0.306922</td>\n",
       "      <td>0.000000</td>\n",
       "      <td>0.015084</td>\n",
       "      <td>0.000000</td>\n",
       "      <td>0.000000</td>\n",
       "      <td>32.673591</td>\n",
       "      <td>0.249339</td>\n",
       "    </tr>\n",
       "    <tr>\n",
       "      <th>max</th>\n",
       "      <td>3820.000000</td>\n",
       "      <td>31.096000</td>\n",
       "      <td>5.296000</td>\n",
       "      <td>0.0</td>\n",
       "      <td>1548.181424</td>\n",
       "      <td>2007.769204</td>\n",
       "      <td>1568.611504</td>\n",
       "      <td>2240.864900</td>\n",
       "      <td>597.041132</td>\n",
       "      <td>454.049353</td>\n",
       "      <td>...</td>\n",
       "      <td>0.042343</td>\n",
       "      <td>1.000000</td>\n",
       "      <td>6.147341e-04</td>\n",
       "      <td>1.000000</td>\n",
       "      <td>0.193573</td>\n",
       "      <td>0.991295</td>\n",
       "      <td>0.024590</td>\n",
       "      <td>0.486538</td>\n",
       "      <td>9514.004270</td>\n",
       "      <td>1.253528</td>\n",
       "    </tr>\n",
       "  </tbody>\n",
       "</table>\n",
       "<p>8 rows × 30 columns</p>\n",
       "</div>"
      ],
      "text/plain": [
       "                area            lat            lon  burn_area    climate_aet  \\\n",
       "count  137556.000000  137556.000000  137556.000000   137556.0  137556.000000   \n",
       "mean     1910.000000      23.743978      -2.859994        0.0     864.402831   \n",
       "std      1103.031661       3.892359       4.397933        0.0     307.704470   \n",
       "min         0.000000      12.416000     -13.394000        0.0      16.445837   \n",
       "25%       955.000000      20.741000      -6.146000        0.0     726.854412   \n",
       "50%      1910.000000      24.107000      -2.945000        0.0     971.481037   \n",
       "75%      2865.000000      26.956000       0.857000        0.0    1077.329737   \n",
       "max      3820.000000      31.096000       5.296000        0.0    1548.181424   \n",
       "\n",
       "         climate_def   climate_pdsi    climate_pet     climate_pr  \\\n",
       "count  137556.000000  137556.000000  137556.000000  137556.000000   \n",
       "mean      260.259443    -515.509934    1124.662595     110.082514   \n",
       "std       400.966028     483.996616     169.401335      74.112202   \n",
       "min         0.000000   -1679.813736     563.465222       0.000000   \n",
       "25%         0.000000    -906.618057    1009.217701      48.235036   \n",
       "50%         5.584749    -522.843698    1099.403502     115.503642   \n",
       "75%       419.024190    -237.316150    1216.970856     158.824573   \n",
       "max      2007.769204    1568.611504    2240.864900     597.041132   \n",
       "\n",
       "          climate_ro  ...    landcover_1    landcover_2   landcover_3  \\\n",
       "count  137556.000000  ...  137556.000000  137556.000000  1.375560e+05   \n",
       "mean       24.097503  ...       0.000046       0.767847  2.927091e-07   \n",
       "std        40.382936  ...       0.000731       0.328336  1.031334e-05   \n",
       "min         0.000000  ...       0.000000       0.000000  0.000000e+00   \n",
       "25%         2.265291  ...       0.000000       0.593401  0.000000e+00   \n",
       "50%         6.000000  ...       0.000000       0.969502  0.000000e+00   \n",
       "75%        28.320487  ...       0.000000       1.000000  0.000000e+00   \n",
       "max       454.049353  ...       0.042343       1.000000  6.147341e-04   \n",
       "\n",
       "         landcover_4    landcover_5    landcover_6    landcover_7  \\\n",
       "count  137556.000000  137556.000000  137556.000000  137556.000000   \n",
       "mean        0.189053       0.000300       0.029133       0.000038   \n",
       "std         0.314645       0.004824       0.087055       0.000552   \n",
       "min         0.000000       0.000000       0.000000       0.000000   \n",
       "25%         0.000000       0.000000       0.000000       0.000000   \n",
       "50%         0.000000       0.000000       0.000922       0.000000   \n",
       "75%         0.306922       0.000000       0.015084       0.000000   \n",
       "max         1.000000       0.193573       0.991295       0.024590   \n",
       "\n",
       "         landcover_8  population_density  precipitation  \n",
       "count  137556.000000       133272.000000  137556.000000  \n",
       "mean        0.001201           35.321161       0.171752  \n",
       "std         0.009484          192.331234       0.120393  \n",
       "min         0.000000            0.000000       0.000000  \n",
       "25%         0.000000            9.775668       0.077209  \n",
       "50%         0.000000           17.316966       0.165985  \n",
       "75%         0.000000           32.673591       0.249339  \n",
       "max         0.486538         9514.004270       1.253528  \n",
       "\n",
       "[8 rows x 30 columns]"
      ]
     },
     "execution_count": 10,
     "metadata": {},
     "output_type": "execute_result"
    }
   ],
   "source": [
    "df_test.describe()"
   ]
  },
  {
   "cell_type": "markdown",
   "metadata": {},
   "source": [
    "From the data, the inference we could draw out is:\n",
    "- majority of the data are numerical\n",
    "- There are missing values in the *population_density* column\n",
    "- The target or what we are trying to predict is the *burn area*."
   ]
  },
  {
   "cell_type": "markdown",
   "metadata": {},
   "source": [
    "## Data Preprocessing"
   ]
  },
  {
   "cell_type": "markdown",
   "metadata": {},
   "source": [
    "To save time in a hackathon, it is advisable to combine your train and test data and do data preprocessing on the whole dataset than do data preprocessing on train and doing for test."
   ]
  },
  {
   "cell_type": "code",
   "execution_count": 11,
   "metadata": {},
   "outputs": [],
   "source": [
    "#Writing a function to combine train and test\n",
    "def get_combined_data():\n",
    "    # reading train and test data\n",
    "    df_train\n",
    "    df_test\n",
    "    \n",
    "    burn_area = df_train.burn_area #Get the target, which in this case in burn area\n",
    "    df_train.drop(['burn_area'], 1, inplace=True)\n",
    "    df_test.drop(['burn_area'], 1, inplace=True)\n",
    "    \n",
    "    combined = df_train.append(df_test) #combining train and test\n",
    "    combined.reset_index(inplace=True)\n",
    "    combined.drop(['index',\"ID\"], inplace=True, axis=1) \n",
    "    #Dropping the index and ID column because the data will not add to the model\n",
    "    \n",
    "    return combined"
   ]
  },
  {
   "cell_type": "code",
   "execution_count": 12,
   "metadata": {},
   "outputs": [],
   "source": [
    "#Calling the function\n",
    "combined = get_combined_data()"
   ]
  },
  {
   "cell_type": "code",
   "execution_count": 13,
   "metadata": {},
   "outputs": [
    {
     "data": {
      "text/html": [
       "<div>\n",
       "<style scoped>\n",
       "    .dataframe tbody tr th:only-of-type {\n",
       "        vertical-align: middle;\n",
       "    }\n",
       "\n",
       "    .dataframe tbody tr th {\n",
       "        vertical-align: top;\n",
       "    }\n",
       "\n",
       "    .dataframe thead th {\n",
       "        text-align: right;\n",
       "    }\n",
       "</style>\n",
       "<table border=\"1\" class=\"dataframe\">\n",
       "  <thead>\n",
       "    <tr style=\"text-align: right;\">\n",
       "      <th></th>\n",
       "      <th>area</th>\n",
       "      <th>date</th>\n",
       "      <th>lat</th>\n",
       "      <th>lon</th>\n",
       "      <th>climate_aet</th>\n",
       "      <th>climate_def</th>\n",
       "      <th>climate_pdsi</th>\n",
       "      <th>climate_pet</th>\n",
       "      <th>climate_pr</th>\n",
       "      <th>climate_ro</th>\n",
       "      <th>...</th>\n",
       "      <th>landcover_1</th>\n",
       "      <th>landcover_2</th>\n",
       "      <th>landcover_3</th>\n",
       "      <th>landcover_4</th>\n",
       "      <th>landcover_5</th>\n",
       "      <th>landcover_6</th>\n",
       "      <th>landcover_7</th>\n",
       "      <th>landcover_8</th>\n",
       "      <th>population_density</th>\n",
       "      <th>precipitation</th>\n",
       "    </tr>\n",
       "  </thead>\n",
       "  <tbody>\n",
       "    <tr>\n",
       "      <th>0</th>\n",
       "      <td>0</td>\n",
       "      <td>2000-04-01</td>\n",
       "      <td>25.447</td>\n",
       "      <td>5.296</td>\n",
       "      <td>1250.622712</td>\n",
       "      <td>0.0</td>\n",
       "      <td>-178.916305</td>\n",
       "      <td>1250.622712</td>\n",
       "      <td>158.387765</td>\n",
       "      <td>8.000000</td>\n",
       "      <td>...</td>\n",
       "      <td>0.0</td>\n",
       "      <td>0.350169</td>\n",
       "      <td>0.0</td>\n",
       "      <td>0.649524</td>\n",
       "      <td>0.0</td>\n",
       "      <td>0.000307</td>\n",
       "      <td>0.0</td>\n",
       "      <td>0.0</td>\n",
       "      <td>2.214262</td>\n",
       "      <td>0.198996</td>\n",
       "    </tr>\n",
       "    <tr>\n",
       "      <th>1</th>\n",
       "      <td>1</td>\n",
       "      <td>2000-04-01</td>\n",
       "      <td>25.669</td>\n",
       "      <td>5.293</td>\n",
       "      <td>1238.019166</td>\n",
       "      <td>0.0</td>\n",
       "      <td>-150.779947</td>\n",
       "      <td>1238.019166</td>\n",
       "      <td>164.645065</td>\n",
       "      <td>8.104576</td>\n",
       "      <td>...</td>\n",
       "      <td>0.0</td>\n",
       "      <td>0.429049</td>\n",
       "      <td>0.0</td>\n",
       "      <td>0.570644</td>\n",
       "      <td>0.0</td>\n",
       "      <td>0.000307</td>\n",
       "      <td>0.0</td>\n",
       "      <td>0.0</td>\n",
       "      <td>3.833042</td>\n",
       "      <td>0.188071</td>\n",
       "    </tr>\n",
       "    <tr>\n",
       "      <th>2</th>\n",
       "      <td>2</td>\n",
       "      <td>2000-04-01</td>\n",
       "      <td>25.443</td>\n",
       "      <td>5.074</td>\n",
       "      <td>1240.449964</td>\n",
       "      <td>0.0</td>\n",
       "      <td>-200.503858</td>\n",
       "      <td>1240.449964</td>\n",
       "      <td>163.699542</td>\n",
       "      <td>8.027851</td>\n",
       "      <td>...</td>\n",
       "      <td>0.0</td>\n",
       "      <td>0.238300</td>\n",
       "      <td>0.0</td>\n",
       "      <td>0.761700</td>\n",
       "      <td>0.0</td>\n",
       "      <td>0.000000</td>\n",
       "      <td>0.0</td>\n",
       "      <td>0.0</td>\n",
       "      <td>1.927303</td>\n",
       "      <td>0.211730</td>\n",
       "    </tr>\n",
       "    <tr>\n",
       "      <th>3</th>\n",
       "      <td>3</td>\n",
       "      <td>2000-04-01</td>\n",
       "      <td>25.665</td>\n",
       "      <td>5.070</td>\n",
       "      <td>1229.240077</td>\n",
       "      <td>0.0</td>\n",
       "      <td>-177.011032</td>\n",
       "      <td>1229.240077</td>\n",
       "      <td>172.996043</td>\n",
       "      <td>8.820002</td>\n",
       "      <td>...</td>\n",
       "      <td>0.0</td>\n",
       "      <td>0.488146</td>\n",
       "      <td>0.0</td>\n",
       "      <td>0.511854</td>\n",
       "      <td>0.0</td>\n",
       "      <td>0.000000</td>\n",
       "      <td>0.0</td>\n",
       "      <td>0.0</td>\n",
       "      <td>1.878281</td>\n",
       "      <td>0.215403</td>\n",
       "    </tr>\n",
       "    <tr>\n",
       "      <th>4</th>\n",
       "      <td>4</td>\n",
       "      <td>2000-04-01</td>\n",
       "      <td>25.886</td>\n",
       "      <td>5.067</td>\n",
       "      <td>1224.093679</td>\n",
       "      <td>0.0</td>\n",
       "      <td>-153.256111</td>\n",
       "      <td>1224.093679</td>\n",
       "      <td>178.396749</td>\n",
       "      <td>9.000000</td>\n",
       "      <td>...</td>\n",
       "      <td>0.0</td>\n",
       "      <td>0.322243</td>\n",
       "      <td>0.0</td>\n",
       "      <td>0.677757</td>\n",
       "      <td>0.0</td>\n",
       "      <td>0.000000</td>\n",
       "      <td>0.0</td>\n",
       "      <td>0.0</td>\n",
       "      <td>1.968818</td>\n",
       "      <td>0.199975</td>\n",
       "    </tr>\n",
       "  </tbody>\n",
       "</table>\n",
       "<p>5 rows × 30 columns</p>\n",
       "</div>"
      ],
      "text/plain": [
       "   area        date     lat    lon  climate_aet  climate_def  climate_pdsi  \\\n",
       "0     0  2000-04-01  25.447  5.296  1250.622712          0.0   -178.916305   \n",
       "1     1  2000-04-01  25.669  5.293  1238.019166          0.0   -150.779947   \n",
       "2     2  2000-04-01  25.443  5.074  1240.449964          0.0   -200.503858   \n",
       "3     3  2000-04-01  25.665  5.070  1229.240077          0.0   -177.011032   \n",
       "4     4  2000-04-01  25.886  5.067  1224.093679          0.0   -153.256111   \n",
       "\n",
       "   climate_pet  climate_pr  climate_ro  ...  landcover_1  landcover_2  \\\n",
       "0  1250.622712  158.387765    8.000000  ...          0.0     0.350169   \n",
       "1  1238.019166  164.645065    8.104576  ...          0.0     0.429049   \n",
       "2  1240.449964  163.699542    8.027851  ...          0.0     0.238300   \n",
       "3  1229.240077  172.996043    8.820002  ...          0.0     0.488146   \n",
       "4  1224.093679  178.396749    9.000000  ...          0.0     0.322243   \n",
       "\n",
       "   landcover_3  landcover_4  landcover_5  landcover_6  landcover_7  \\\n",
       "0          0.0     0.649524          0.0     0.000307          0.0   \n",
       "1          0.0     0.570644          0.0     0.000307          0.0   \n",
       "2          0.0     0.761700          0.0     0.000000          0.0   \n",
       "3          0.0     0.511854          0.0     0.000000          0.0   \n",
       "4          0.0     0.677757          0.0     0.000000          0.0   \n",
       "\n",
       "   landcover_8  population_density  precipitation  \n",
       "0          0.0            2.214262       0.198996  \n",
       "1          0.0            3.833042       0.188071  \n",
       "2          0.0            1.927303       0.211730  \n",
       "3          0.0            1.878281       0.215403  \n",
       "4          0.0            1.968818       0.199975  \n",
       "\n",
       "[5 rows x 30 columns]"
      ]
     },
     "execution_count": 13,
     "metadata": {},
     "output_type": "execute_result"
    }
   ],
   "source": [
    "combined.head()"
   ]
  },
  {
   "cell_type": "code",
   "execution_count": 14,
   "metadata": {},
   "outputs": [
    {
     "data": {
      "text/plain": [
       "(764200, 30)"
      ]
     },
     "execution_count": 14,
     "metadata": {},
     "output_type": "execute_result"
    }
   ],
   "source": [
    "combined.shape #The train and test data has been combined"
   ]
  },
  {
   "cell_type": "code",
   "execution_count": 15,
   "metadata": {},
   "outputs": [
    {
     "data": {
      "text/plain": [
       "Index(['area', 'date', 'lat', 'lon', 'climate_aet', 'climate_def',\n",
       "       'climate_pdsi', 'climate_pet', 'climate_pr', 'climate_ro',\n",
       "       'climate_soil', 'climate_srad', 'climate_swe', 'climate_tmmn',\n",
       "       'climate_tmmx', 'climate_vap', 'climate_vpd', 'climate_vs', 'elevation',\n",
       "       'landcover_0', 'landcover_1', 'landcover_2', 'landcover_3',\n",
       "       'landcover_4', 'landcover_5', 'landcover_6', 'landcover_7',\n",
       "       'landcover_8', 'population_density', 'precipitation'],\n",
       "      dtype='object')"
      ]
     },
     "execution_count": 15,
     "metadata": {},
     "output_type": "execute_result"
    }
   ],
   "source": [
    "combined.columns"
   ]
  },
  {
   "cell_type": "markdown",
   "metadata": {},
   "source": [
    "### Working with the area"
   ]
  },
  {
   "cell_type": "code",
   "execution_count": 16,
   "metadata": {},
   "outputs": [
    {
     "data": {
      "text/plain": [
       "<matplotlib.axes._subplots.AxesSubplot at 0x7f4eaee921d0>"
      ]
     },
     "execution_count": 16,
     "metadata": {},
     "output_type": "execute_result"
    },
    {
     "data": {
      "image/png": "[encoded data removed]",
      "text/plain": [
       "<Figure size 864x504 with 1 Axes>"
      ]
     },
     "metadata": {
      "needs_background": "light"
     },
     "output_type": "display_data"
    }
   ],
   "source": [
    "plt.figure(figsize=(12,7))\n",
    "sns.distplot(combined.area,kde=False)"
   ]
  },
  {
   "cell_type": "code",
   "execution_count": 17,
   "metadata": {},
   "outputs": [],
   "source": [
    "#Its a normal distribution for the area"
   ]
  },
  {
   "cell_type": "markdown",
   "metadata": {},
   "source": [
    "### Working with the date"
   ]
  },
  {
   "cell_type": "code",
   "execution_count": 18,
   "metadata": {},
   "outputs": [
    {
     "data": {
      "text/plain": [
       "0         2000-04-01\n",
       "1         2000-04-01\n",
       "2         2000-04-01\n",
       "3         2000-04-01\n",
       "4         2000-04-01\n",
       "             ...    \n",
       "764195    2016-12-01\n",
       "764196    2016-12-01\n",
       "764197    2016-12-01\n",
       "764198    2016-12-01\n",
       "764199    2016-12-01\n",
       "Name: date, Length: 764200, dtype: object"
      ]
     },
     "execution_count": 18,
     "metadata": {},
     "output_type": "execute_result"
    }
   ],
   "source": [
    "combined.date"
   ]
  },
  {
   "cell_type": "code",
   "execution_count": 19,
   "metadata": {},
   "outputs": [],
   "source": [
    "#Covert to datetime datatype\n",
    "combined['date'] = pd.to_datetime(combined['date'])"
   ]
  },
  {
   "cell_type": "code",
   "execution_count": 20,
   "metadata": {},
   "outputs": [],
   "source": [
    "#Extract the date feaures, from date we can get the year, month and day\n",
    "combined[\"year\"] = combined[\"date\"].apply(lambda x:x.year)\n",
    "combined[\"month\"] = combined[\"date\"].apply(lambda x:x.month)\n",
    "combined[\"day\"] = combined[\"date\"].apply(lambda x:x.day)\n",
    "\n",
    "#Drop the initial date\n",
    "combined.drop(\"date\",1,inplace=True)"
   ]
  },
  {
   "cell_type": "code",
   "execution_count": 21,
   "metadata": {},
   "outputs": [
    {
     "data": {
      "text/html": [
       "<div>\n",
       "<style scoped>\n",
       "    .dataframe tbody tr th:only-of-type {\n",
       "        vertical-align: middle;\n",
       "    }\n",
       "\n",
       "    .dataframe tbody tr th {\n",
       "        vertical-align: top;\n",
       "    }\n",
       "\n",
       "    .dataframe thead th {\n",
       "        text-align: right;\n",
       "    }\n",
       "</style>\n",
       "<table border=\"1\" class=\"dataframe\">\n",
       "  <thead>\n",
       "    <tr style=\"text-align: right;\">\n",
       "      <th></th>\n",
       "      <th>area</th>\n",
       "      <th>lat</th>\n",
       "      <th>lon</th>\n",
       "      <th>climate_aet</th>\n",
       "      <th>climate_def</th>\n",
       "      <th>climate_pdsi</th>\n",
       "      <th>climate_pet</th>\n",
       "      <th>climate_pr</th>\n",
       "      <th>climate_ro</th>\n",
       "      <th>climate_soil</th>\n",
       "      <th>...</th>\n",
       "      <th>landcover_4</th>\n",
       "      <th>landcover_5</th>\n",
       "      <th>landcover_6</th>\n",
       "      <th>landcover_7</th>\n",
       "      <th>landcover_8</th>\n",
       "      <th>population_density</th>\n",
       "      <th>precipitation</th>\n",
       "      <th>year</th>\n",
       "      <th>month</th>\n",
       "      <th>day</th>\n",
       "    </tr>\n",
       "  </thead>\n",
       "  <tbody>\n",
       "    <tr>\n",
       "      <th>0</th>\n",
       "      <td>0</td>\n",
       "      <td>25.447</td>\n",
       "      <td>5.296</td>\n",
       "      <td>1250.622712</td>\n",
       "      <td>0.0</td>\n",
       "      <td>-178.916305</td>\n",
       "      <td>1250.622712</td>\n",
       "      <td>158.387765</td>\n",
       "      <td>8.000000</td>\n",
       "      <td>498.913776</td>\n",
       "      <td>...</td>\n",
       "      <td>0.649524</td>\n",
       "      <td>0.0</td>\n",
       "      <td>0.000307</td>\n",
       "      <td>0.0</td>\n",
       "      <td>0.0</td>\n",
       "      <td>2.214262</td>\n",
       "      <td>0.198996</td>\n",
       "      <td>2000</td>\n",
       "      <td>4</td>\n",
       "      <td>1</td>\n",
       "    </tr>\n",
       "    <tr>\n",
       "      <th>1</th>\n",
       "      <td>1</td>\n",
       "      <td>25.669</td>\n",
       "      <td>5.293</td>\n",
       "      <td>1238.019166</td>\n",
       "      <td>0.0</td>\n",
       "      <td>-150.779947</td>\n",
       "      <td>1238.019166</td>\n",
       "      <td>164.645065</td>\n",
       "      <td>8.104576</td>\n",
       "      <td>590.346191</td>\n",
       "      <td>...</td>\n",
       "      <td>0.570644</td>\n",
       "      <td>0.0</td>\n",
       "      <td>0.000307</td>\n",
       "      <td>0.0</td>\n",
       "      <td>0.0</td>\n",
       "      <td>3.833042</td>\n",
       "      <td>0.188071</td>\n",
       "      <td>2000</td>\n",
       "      <td>4</td>\n",
       "      <td>1</td>\n",
       "    </tr>\n",
       "    <tr>\n",
       "      <th>2</th>\n",
       "      <td>2</td>\n",
       "      <td>25.443</td>\n",
       "      <td>5.074</td>\n",
       "      <td>1240.449964</td>\n",
       "      <td>0.0</td>\n",
       "      <td>-200.503858</td>\n",
       "      <td>1240.449964</td>\n",
       "      <td>163.699542</td>\n",
       "      <td>8.027851</td>\n",
       "      <td>536.613938</td>\n",
       "      <td>...</td>\n",
       "      <td>0.761700</td>\n",
       "      <td>0.0</td>\n",
       "      <td>0.000000</td>\n",
       "      <td>0.0</td>\n",
       "      <td>0.0</td>\n",
       "      <td>1.927303</td>\n",
       "      <td>0.211730</td>\n",
       "      <td>2000</td>\n",
       "      <td>4</td>\n",
       "      <td>1</td>\n",
       "    </tr>\n",
       "    <tr>\n",
       "      <th>3</th>\n",
       "      <td>3</td>\n",
       "      <td>25.665</td>\n",
       "      <td>5.070</td>\n",
       "      <td>1229.240077</td>\n",
       "      <td>0.0</td>\n",
       "      <td>-177.011032</td>\n",
       "      <td>1229.240077</td>\n",
       "      <td>172.996043</td>\n",
       "      <td>8.820002</td>\n",
       "      <td>648.271615</td>\n",
       "      <td>...</td>\n",
       "      <td>0.511854</td>\n",
       "      <td>0.0</td>\n",
       "      <td>0.000000</td>\n",
       "      <td>0.0</td>\n",
       "      <td>0.0</td>\n",
       "      <td>1.878281</td>\n",
       "      <td>0.215403</td>\n",
       "      <td>2000</td>\n",
       "      <td>4</td>\n",
       "      <td>1</td>\n",
       "    </tr>\n",
       "    <tr>\n",
       "      <th>4</th>\n",
       "      <td>4</td>\n",
       "      <td>25.886</td>\n",
       "      <td>5.067</td>\n",
       "      <td>1224.093679</td>\n",
       "      <td>0.0</td>\n",
       "      <td>-153.256111</td>\n",
       "      <td>1224.093679</td>\n",
       "      <td>178.396749</td>\n",
       "      <td>9.000000</td>\n",
       "      <td>719.423119</td>\n",
       "      <td>...</td>\n",
       "      <td>0.677757</td>\n",
       "      <td>0.0</td>\n",
       "      <td>0.000000</td>\n",
       "      <td>0.0</td>\n",
       "      <td>0.0</td>\n",
       "      <td>1.968818</td>\n",
       "      <td>0.199975</td>\n",
       "      <td>2000</td>\n",
       "      <td>4</td>\n",
       "      <td>1</td>\n",
       "    </tr>\n",
       "  </tbody>\n",
       "</table>\n",
       "<p>5 rows × 32 columns</p>\n",
       "</div>"
      ],
      "text/plain": [
       "   area     lat    lon  climate_aet  climate_def  climate_pdsi  climate_pet  \\\n",
       "0     0  25.447  5.296  1250.622712          0.0   -178.916305  1250.622712   \n",
       "1     1  25.669  5.293  1238.019166          0.0   -150.779947  1238.019166   \n",
       "2     2  25.443  5.074  1240.449964          0.0   -200.503858  1240.449964   \n",
       "3     3  25.665  5.070  1229.240077          0.0   -177.011032  1229.240077   \n",
       "4     4  25.886  5.067  1224.093679          0.0   -153.256111  1224.093679   \n",
       "\n",
       "   climate_pr  climate_ro  climate_soil  ...  landcover_4  landcover_5  \\\n",
       "0  158.387765    8.000000    498.913776  ...     0.649524          0.0   \n",
       "1  164.645065    8.104576    590.346191  ...     0.570644          0.0   \n",
       "2  163.699542    8.027851    536.613938  ...     0.761700          0.0   \n",
       "3  172.996043    8.820002    648.271615  ...     0.511854          0.0   \n",
       "4  178.396749    9.000000    719.423119  ...     0.677757          0.0   \n",
       "\n",
       "   landcover_6  landcover_7  landcover_8  population_density  precipitation  \\\n",
       "0     0.000307          0.0          0.0            2.214262       0.198996   \n",
       "1     0.000307          0.0          0.0            3.833042       0.188071   \n",
       "2     0.000000          0.0          0.0            1.927303       0.211730   \n",
       "3     0.000000          0.0          0.0            1.878281       0.215403   \n",
       "4     0.000000          0.0          0.0            1.968818       0.199975   \n",
       "\n",
       "   year  month  day  \n",
       "0  2000      4    1  \n",
       "1  2000      4    1  \n",
       "2  2000      4    1  \n",
       "3  2000      4    1  \n",
       "4  2000      4    1  \n",
       "\n",
       "[5 rows x 32 columns]"
      ]
     },
     "execution_count": 21,
     "metadata": {},
     "output_type": "execute_result"
    }
   ],
   "source": [
    "combined.head()"
   ]
  },
  {
   "cell_type": "code",
   "execution_count": 22,
   "metadata": {},
   "outputs": [
    {
     "data": {
      "text/plain": [
       "<matplotlib.axes._subplots.AxesSubplot at 0x7f4eaee0b390>"
      ]
     },
     "execution_count": 22,
     "metadata": {},
     "output_type": "execute_result"
    },
    {
     "data": {
      "image/png": "[encoded data removed]",
      "text/plain": [
       "<Figure size 432x288 with 1 Axes>"
      ]
     },
     "metadata": {
      "needs_background": "light"
     },
     "output_type": "display_data"
    }
   ],
   "source": [
    "sns.countplot(combined.month)"
   ]
  },
  {
   "cell_type": "markdown",
   "metadata": {},
   "source": [
    "### working with the latitude"
   ]
  },
  {
   "cell_type": "code",
   "execution_count": 23,
   "metadata": {},
   "outputs": [
    {
     "data": {
      "text/plain": [
       "0         25.447\n",
       "1         25.669\n",
       "2         25.443\n",
       "3         25.665\n",
       "4         25.886\n",
       "           ...  \n",
       "764195    29.075\n",
       "764196    29.298\n",
       "764197    29.522\n",
       "764198    29.745\n",
       "764199    29.758\n",
       "Name: lat, Length: 764200, dtype: float64"
      ]
     },
     "execution_count": 23,
     "metadata": {},
     "output_type": "execute_result"
    }
   ],
   "source": [
    "combined.lat"
   ]
  },
  {
   "cell_type": "code",
   "execution_count": 24,
   "metadata": {},
   "outputs": [
    {
     "data": {
      "text/plain": [
       "<matplotlib.axes._subplots.AxesSubplot at 0x7f4eaea55e80>"
      ]
     },
     "execution_count": 24,
     "metadata": {},
     "output_type": "execute_result"
    },
    {
     "data": {
      "image/png": "[encoded data removed]",
      "text/plain": [
       "<Figure size 432x288 with 1 Axes>"
      ]
     },
     "metadata": {
      "needs_background": "light"
     },
     "output_type": "display_data"
    }
   ],
   "source": [
    "#Check distribution \n",
    "sns.distplot(combined.lat)"
   ]
  },
  {
   "cell_type": "markdown",
   "metadata": {},
   "source": [
    "### Working with the longitude"
   ]
  },
  {
   "cell_type": "code",
   "execution_count": 25,
   "metadata": {},
   "outputs": [
    {
     "data": {
      "text/plain": [
       "<matplotlib.axes._subplots.AxesSubplot at 0x7f4eae94be80>"
      ]
     },
     "execution_count": 25,
     "metadata": {},
     "output_type": "execute_result"
    },
    {
     "data": {
      "image/png": "[encoded data removed]",
      "text/plain": [
       "<Figure size 432x288 with 1 Axes>"
      ]
     },
     "metadata": {
      "needs_background": "light"
     },
     "output_type": "display_data"
    }
   ],
   "source": [
    "sns.distplot(combined.lon)"
   ]
  },
  {
   "cell_type": "markdown",
   "metadata": {},
   "source": [
    "since we're not asked to do anything with GIS, we'll not analysis on the latitude and longitude"
   ]
  },
  {
   "cell_type": "markdown",
   "metadata": {},
   "source": [
    "### working with climate_aet"
   ]
  },
  {
   "cell_type": "code",
   "execution_count": 26,
   "metadata": {},
   "outputs": [
    {
     "data": {
      "text/plain": [
       "<matplotlib.axes._subplots.AxesSubplot at 0x7f4ead401550>"
      ]
     },
     "execution_count": 26,
     "metadata": {},
     "output_type": "execute_result"
    },
    {
     "data": {
      "image/png": "[encoded data removed]",
      "text/plain": [
       "<Figure size 432x288 with 1 Axes>"
      ]
     },
     "metadata": {
      "needs_background": "light"
     },
     "output_type": "display_data"
    }
   ],
   "source": [
    "sns.distplot(combined.climate_aet)"
   ]
  },
  {
   "cell_type": "markdown",
   "metadata": {},
   "source": [
    "### working with climate_def"
   ]
  },
  {
   "cell_type": "code",
   "execution_count": 27,
   "metadata": {},
   "outputs": [
    {
     "data": {
      "text/plain": [
       "<matplotlib.axes._subplots.AxesSubplot at 0x7f4ead2f8f60>"
      ]
     },
     "execution_count": 27,
     "metadata": {},
     "output_type": "execute_result"
    },
    {
     "data": {
      "image/png": "[encoded data removed]",
      "text/plain": [
       "<Figure size 432x288 with 1 Axes>"
      ]
     },
     "metadata": {
      "needs_background": "light"
     },
     "output_type": "display_data"
    }
   ],
   "source": [
    "sns.distplot(combined.climate_def)"
   ]
  },
  {
   "cell_type": "code",
   "execution_count": 28,
   "metadata": {},
   "outputs": [
    {
     "data": {
      "text/plain": [
       "<matplotlib.axes._subplots.AxesSubplot at 0x7f4ead1dd3c8>"
      ]
     },
     "execution_count": 28,
     "metadata": {},
     "output_type": "execute_result"
    },
    {
     "data": {
      "image/png": "[encoded data removed]",
      "text/plain": [
       "<Figure size 432x288 with 1 Axes>"
      ]
     },
     "metadata": {
      "needs_background": "light"
     },
     "output_type": "display_data"
    }
   ],
   "source": [
    "sns.boxplot(combined.climate_def)"
   ]
  },
  {
   "cell_type": "code",
   "execution_count": 29,
   "metadata": {},
   "outputs": [
    {
     "data": {
      "text/plain": [
       "0.000000       397248\n",
       "0.005789            4\n",
       "0.001448            4\n",
       "0.014477            4\n",
       "0.003858            4\n",
       "                ...  \n",
       "196.187070          1\n",
       "1183.809256         1\n",
       "0.005322            1\n",
       "453.790795          1\n",
       "882.713658          1\n",
       "Name: climate_def, Length: 366711, dtype: int64"
      ]
     },
     "execution_count": 29,
     "metadata": {},
     "output_type": "execute_result"
    }
   ],
   "source": [
    "combined.climate_def.value_counts()"
   ]
  },
  {
   "cell_type": "code",
   "execution_count": 30,
   "metadata": {},
   "outputs": [],
   "source": [
    "#Drop the climate_def due to multiple 0's which has a low variance\n",
    "combined.drop('climate_def',1,inplace=True)"
   ]
  },
  {
   "cell_type": "code",
   "execution_count": 31,
   "metadata": {},
   "outputs": [
    {
     "data": {
      "text/html": [
       "<div>\n",
       "<style scoped>\n",
       "    .dataframe tbody tr th:only-of-type {\n",
       "        vertical-align: middle;\n",
       "    }\n",
       "\n",
       "    .dataframe tbody tr th {\n",
       "        vertical-align: top;\n",
       "    }\n",
       "\n",
       "    .dataframe thead th {\n",
       "        text-align: right;\n",
       "    }\n",
       "</style>\n",
       "<table border=\"1\" class=\"dataframe\">\n",
       "  <thead>\n",
       "    <tr style=\"text-align: right;\">\n",
       "      <th></th>\n",
       "      <th>area</th>\n",
       "      <th>lat</th>\n",
       "      <th>lon</th>\n",
       "      <th>climate_aet</th>\n",
       "      <th>climate_pdsi</th>\n",
       "      <th>climate_pet</th>\n",
       "      <th>climate_pr</th>\n",
       "      <th>climate_ro</th>\n",
       "      <th>climate_soil</th>\n",
       "      <th>climate_srad</th>\n",
       "      <th>...</th>\n",
       "      <th>landcover_4</th>\n",
       "      <th>landcover_5</th>\n",
       "      <th>landcover_6</th>\n",
       "      <th>landcover_7</th>\n",
       "      <th>landcover_8</th>\n",
       "      <th>population_density</th>\n",
       "      <th>precipitation</th>\n",
       "      <th>year</th>\n",
       "      <th>month</th>\n",
       "      <th>day</th>\n",
       "    </tr>\n",
       "  </thead>\n",
       "  <tbody>\n",
       "    <tr>\n",
       "      <th>0</th>\n",
       "      <td>0</td>\n",
       "      <td>25.447</td>\n",
       "      <td>5.296</td>\n",
       "      <td>1250.622712</td>\n",
       "      <td>-178.916305</td>\n",
       "      <td>1250.622712</td>\n",
       "      <td>158.387765</td>\n",
       "      <td>8.000000</td>\n",
       "      <td>498.913776</td>\n",
       "      <td>2143.430034</td>\n",
       "      <td>...</td>\n",
       "      <td>0.649524</td>\n",
       "      <td>0.0</td>\n",
       "      <td>0.000307</td>\n",
       "      <td>0.0</td>\n",
       "      <td>0.0</td>\n",
       "      <td>2.214262</td>\n",
       "      <td>0.198996</td>\n",
       "      <td>2000</td>\n",
       "      <td>4</td>\n",
       "      <td>1</td>\n",
       "    </tr>\n",
       "    <tr>\n",
       "      <th>1</th>\n",
       "      <td>1</td>\n",
       "      <td>25.669</td>\n",
       "      <td>5.293</td>\n",
       "      <td>1238.019166</td>\n",
       "      <td>-150.779947</td>\n",
       "      <td>1238.019166</td>\n",
       "      <td>164.645065</td>\n",
       "      <td>8.104576</td>\n",
       "      <td>590.346191</td>\n",
       "      <td>2132.253953</td>\n",
       "      <td>...</td>\n",
       "      <td>0.570644</td>\n",
       "      <td>0.0</td>\n",
       "      <td>0.000307</td>\n",
       "      <td>0.0</td>\n",
       "      <td>0.0</td>\n",
       "      <td>3.833042</td>\n",
       "      <td>0.188071</td>\n",
       "      <td>2000</td>\n",
       "      <td>4</td>\n",
       "      <td>1</td>\n",
       "    </tr>\n",
       "    <tr>\n",
       "      <th>2</th>\n",
       "      <td>2</td>\n",
       "      <td>25.443</td>\n",
       "      <td>5.074</td>\n",
       "      <td>1240.449964</td>\n",
       "      <td>-200.503858</td>\n",
       "      <td>1240.449964</td>\n",
       "      <td>163.699542</td>\n",
       "      <td>8.027851</td>\n",
       "      <td>536.613938</td>\n",
       "      <td>2139.632626</td>\n",
       "      <td>...</td>\n",
       "      <td>0.761700</td>\n",
       "      <td>0.0</td>\n",
       "      <td>0.000000</td>\n",
       "      <td>0.0</td>\n",
       "      <td>0.0</td>\n",
       "      <td>1.927303</td>\n",
       "      <td>0.211730</td>\n",
       "      <td>2000</td>\n",
       "      <td>4</td>\n",
       "      <td>1</td>\n",
       "    </tr>\n",
       "    <tr>\n",
       "      <th>3</th>\n",
       "      <td>3</td>\n",
       "      <td>25.665</td>\n",
       "      <td>5.070</td>\n",
       "      <td>1229.240077</td>\n",
       "      <td>-177.011032</td>\n",
       "      <td>1229.240077</td>\n",
       "      <td>172.996043</td>\n",
       "      <td>8.820002</td>\n",
       "      <td>648.271615</td>\n",
       "      <td>2125.206979</td>\n",
       "      <td>...</td>\n",
       "      <td>0.511854</td>\n",
       "      <td>0.0</td>\n",
       "      <td>0.000000</td>\n",
       "      <td>0.0</td>\n",
       "      <td>0.0</td>\n",
       "      <td>1.878281</td>\n",
       "      <td>0.215403</td>\n",
       "      <td>2000</td>\n",
       "      <td>4</td>\n",
       "      <td>1</td>\n",
       "    </tr>\n",
       "    <tr>\n",
       "      <th>4</th>\n",
       "      <td>4</td>\n",
       "      <td>25.886</td>\n",
       "      <td>5.067</td>\n",
       "      <td>1224.093679</td>\n",
       "      <td>-153.256111</td>\n",
       "      <td>1224.093679</td>\n",
       "      <td>178.396749</td>\n",
       "      <td>9.000000</td>\n",
       "      <td>719.423119</td>\n",
       "      <td>2114.709813</td>\n",
       "      <td>...</td>\n",
       "      <td>0.677757</td>\n",
       "      <td>0.0</td>\n",
       "      <td>0.000000</td>\n",
       "      <td>0.0</td>\n",
       "      <td>0.0</td>\n",
       "      <td>1.968818</td>\n",
       "      <td>0.199975</td>\n",
       "      <td>2000</td>\n",
       "      <td>4</td>\n",
       "      <td>1</td>\n",
       "    </tr>\n",
       "  </tbody>\n",
       "</table>\n",
       "<p>5 rows × 31 columns</p>\n",
       "</div>"
      ],
      "text/plain": [
       "   area     lat    lon  climate_aet  climate_pdsi  climate_pet  climate_pr  \\\n",
       "0     0  25.447  5.296  1250.622712   -178.916305  1250.622712  158.387765   \n",
       "1     1  25.669  5.293  1238.019166   -150.779947  1238.019166  164.645065   \n",
       "2     2  25.443  5.074  1240.449964   -200.503858  1240.449964  163.699542   \n",
       "3     3  25.665  5.070  1229.240077   -177.011032  1229.240077  172.996043   \n",
       "4     4  25.886  5.067  1224.093679   -153.256111  1224.093679  178.396749   \n",
       "\n",
       "   climate_ro  climate_soil  climate_srad  ...  landcover_4  landcover_5  \\\n",
       "0    8.000000    498.913776   2143.430034  ...     0.649524          0.0   \n",
       "1    8.104576    590.346191   2132.253953  ...     0.570644          0.0   \n",
       "2    8.027851    536.613938   2139.632626  ...     0.761700          0.0   \n",
       "3    8.820002    648.271615   2125.206979  ...     0.511854          0.0   \n",
       "4    9.000000    719.423119   2114.709813  ...     0.677757          0.0   \n",
       "\n",
       "   landcover_6  landcover_7  landcover_8  population_density  precipitation  \\\n",
       "0     0.000307          0.0          0.0            2.214262       0.198996   \n",
       "1     0.000307          0.0          0.0            3.833042       0.188071   \n",
       "2     0.000000          0.0          0.0            1.927303       0.211730   \n",
       "3     0.000000          0.0          0.0            1.878281       0.215403   \n",
       "4     0.000000          0.0          0.0            1.968818       0.199975   \n",
       "\n",
       "   year  month  day  \n",
       "0  2000      4    1  \n",
       "1  2000      4    1  \n",
       "2  2000      4    1  \n",
       "3  2000      4    1  \n",
       "4  2000      4    1  \n",
       "\n",
       "[5 rows x 31 columns]"
      ]
     },
     "execution_count": 31,
     "metadata": {},
     "output_type": "execute_result"
    }
   ],
   "source": [
    "combined.head()"
   ]
  },
  {
   "cell_type": "markdown",
   "metadata": {},
   "source": [
    "### working with climate_pdsi"
   ]
  },
  {
   "cell_type": "code",
   "execution_count": 32,
   "metadata": {},
   "outputs": [
    {
     "data": {
      "text/plain": [
       "<matplotlib.axes._subplots.AxesSubplot at 0x7f4ead1b0048>"
      ]
     },
     "execution_count": 32,
     "metadata": {},
     "output_type": "execute_result"
    },
    {
     "data": {
      "image/png": "[encoded data removed]",
      "text/plain": [
       "<Figure size 432x288 with 1 Axes>"
      ]
     },
     "metadata": {
      "needs_background": "light"
     },
     "output_type": "display_data"
    }
   ],
   "source": [
    "sns.distplot(combined.climate_pdsi)\n",
    "#It's a Bimodal distribution"
   ]
  },
  {
   "cell_type": "markdown",
   "metadata": {},
   "source": [
    "### Working with climate_pet"
   ]
  },
  {
   "cell_type": "code",
   "execution_count": 33,
   "metadata": {},
   "outputs": [
    {
     "data": {
      "text/plain": [
       "<matplotlib.axes._subplots.AxesSubplot at 0x7f4ead15deb8>"
      ]
     },
     "execution_count": 33,
     "metadata": {},
     "output_type": "execute_result"
    },
    {
     "data": {
      "image/png": "[encoded data removed]",
      "text/plain": [
       "<Figure size 432x288 with 1 Axes>"
      ]
     },
     "metadata": {
      "needs_background": "light"
     },
     "output_type": "display_data"
    }
   ],
   "source": [
    "sns.distplot(combined.climate_pdsi)"
   ]
  },
  {
   "cell_type": "markdown",
   "metadata": {},
   "source": [
    "### Working with climate_pr"
   ]
  },
  {
   "cell_type": "code",
   "execution_count": 34,
   "metadata": {},
   "outputs": [
    {
     "data": {
      "text/plain": [
       "<matplotlib.axes._subplots.AxesSubplot at 0x7f4ead097ef0>"
      ]
     },
     "execution_count": 34,
     "metadata": {},
     "output_type": "execute_result"
    },
    {
     "data": {
      "image/png": "[encoded data removed]",
      "text/plain": [
       "<Figure size 432x288 with 1 Axes>"
      ]
     },
     "metadata": {
      "needs_background": "light"
     },
     "output_type": "display_data"
    }
   ],
   "source": [
    "sns.distplot(combined.climate_pr)"
   ]
  },
  {
   "cell_type": "code",
   "execution_count": 35,
   "metadata": {},
   "outputs": [],
   "source": [
    "#Dropping the climate_pr, It conains a lot of zeros, which contains a lot of low variance\n",
    "combined.drop('climate_pr',1,inplace=True)"
   ]
  },
  {
   "cell_type": "markdown",
   "metadata": {},
   "source": [
    "### Working with climate_ro"
   ]
  },
  {
   "cell_type": "code",
   "execution_count": 36,
   "metadata": {},
   "outputs": [
    {
     "data": {
      "text/plain": [
       "<matplotlib.axes._subplots.AxesSubplot at 0x7f4eacf52860>"
      ]
     },
     "execution_count": 36,
     "metadata": {},
     "output_type": "execute_result"
    },
    {
     "data": {
      "image/png": "[encoded data removed]",
      "text/plain": [
       "<Figure size 432x288 with 1 Axes>"
      ]
     },
     "metadata": {
      "needs_background": "light"
     },
     "output_type": "display_data"
    }
   ],
   "source": [
    "sns.distplot(combined.climate_ro)"
   ]
  },
  {
   "cell_type": "code",
   "execution_count": 37,
   "metadata": {},
   "outputs": [],
   "source": [
    "#Dropping the climate_ro, It conains a lot of zeros, which contains a lot of low variance\n",
    "combined.drop('climate_ro',1,inplace=True)"
   ]
  },
  {
   "cell_type": "markdown",
   "metadata": {},
   "source": [
    "### Working with climate_soil"
   ]
  },
  {
   "cell_type": "code",
   "execution_count": 38,
   "metadata": {},
   "outputs": [
    {
     "data": {
      "text/plain": [
       "<matplotlib.axes._subplots.AxesSubplot at 0x7f4eacdf62b0>"
      ]
     },
     "execution_count": 38,
     "metadata": {},
     "output_type": "execute_result"
    },
    {
     "data": {
      "image/png": "[encoded data removed]",
      "text/plain": [
       "<Figure size 432x288 with 1 Axes>"
      ]
     },
     "metadata": {
      "needs_background": "light"
     },
     "output_type": "display_data"
    }
   ],
   "source": [
    "sns.distplot(combined.climate_soil)"
   ]
  },
  {
   "cell_type": "markdown",
   "metadata": {},
   "source": [
    "### Working with climate_srad"
   ]
  },
  {
   "cell_type": "code",
   "execution_count": 39,
   "metadata": {},
   "outputs": [
    {
     "data": {
      "text/plain": [
       "<matplotlib.axes._subplots.AxesSubplot at 0x7f4eacce0b00>"
      ]
     },
     "execution_count": 39,
     "metadata": {},
     "output_type": "execute_result"
    },
    {
     "data": {
      "image/png": "[encoded data removed]",
      "text/plain": [
       "<Figure size 432x288 with 1 Axes>"
      ]
     },
     "metadata": {
      "needs_background": "light"
     },
     "output_type": "display_data"
    }
   ],
   "source": [
    "sns.distplot(combined.climate_srad)\n",
    "#Normal distribution!!!"
   ]
  },
  {
   "cell_type": "markdown",
   "metadata": {},
   "source": [
    "### Working with climate_swe"
   ]
  },
  {
   "cell_type": "code",
   "execution_count": 40,
   "metadata": {},
   "outputs": [
    {
     "data": {
      "text/plain": [
       "<matplotlib.axes._subplots.AxesSubplot at 0x7f4eacd329e8>"
      ]
     },
     "execution_count": 40,
     "metadata": {},
     "output_type": "execute_result"
    },
    {
     "data": {
      "image/png": "[encoded data removed]",
      "text/plain": [
       "<Figure size 432x288 with 1 Axes>"
      ]
     },
     "metadata": {
      "needs_background": "light"
     },
     "output_type": "display_data"
    }
   ],
   "source": [
    "sns.distplot(combined.climate_swe)"
   ]
  },
  {
   "cell_type": "code",
   "execution_count": 41,
   "metadata": {},
   "outputs": [],
   "source": [
    "#Dropping the climate_swe, It conains a lot of zeros, which contains a lot of low variance\n",
    "combined.drop('climate_swe',1,inplace=True)"
   ]
  },
  {
   "cell_type": "markdown",
   "metadata": {},
   "source": [
    "### Working with climate_tmmn"
   ]
  },
  {
   "cell_type": "code",
   "execution_count": 42,
   "metadata": {},
   "outputs": [
    {
     "data": {
      "text/plain": [
       "<matplotlib.axes._subplots.AxesSubplot at 0x7f4eacc2a588>"
      ]
     },
     "execution_count": 42,
     "metadata": {},
     "output_type": "execute_result"
    },
    {
     "data": {
      "image/png": "[encoded data removed]",
      "text/plain": [
       "<Figure size 432x288 with 1 Axes>"
      ]
     },
     "metadata": {
      "needs_background": "light"
     },
     "output_type": "display_data"
    }
   ],
   "source": [
    "sns.distplot(combined.climate_tmmn)"
   ]
  },
  {
   "cell_type": "markdown",
   "metadata": {},
   "source": [
    "### Working with climate_tmmx"
   ]
  },
  {
   "cell_type": "code",
   "execution_count": 43,
   "metadata": {},
   "outputs": [
    {
     "data": {
      "text/plain": [
       "<matplotlib.axes._subplots.AxesSubplot at 0x7f4eacad4ac8>"
      ]
     },
     "execution_count": 43,
     "metadata": {},
     "output_type": "execute_result"
    },
    {
     "data": {
      "image/png": "[encoded data removed]",
      "text/plain": [
       "<Figure size 432x288 with 1 Axes>"
      ]
     },
     "metadata": {
      "needs_background": "light"
     },
     "output_type": "display_data"
    }
   ],
   "source": [
    "sns.distplot(combined.climate_tmmx)"
   ]
  },
  {
   "cell_type": "markdown",
   "metadata": {},
   "source": [
    "### Working with climate_vap"
   ]
  },
  {
   "cell_type": "code",
   "execution_count": 44,
   "metadata": {},
   "outputs": [
    {
     "data": {
      "text/plain": [
       "<matplotlib.axes._subplots.AxesSubplot at 0x7f4eac9ec898>"
      ]
     },
     "execution_count": 44,
     "metadata": {},
     "output_type": "execute_result"
    },
    {
     "data": {
      "image/png": "[encoded data removed]",
      "text/plain": [
       "<Figure size 432x288 with 1 Axes>"
      ]
     },
     "metadata": {
      "needs_background": "light"
     },
     "output_type": "display_data"
    }
   ],
   "source": [
    "sns.distplot(combined.climate_vap)"
   ]
  },
  {
   "cell_type": "markdown",
   "metadata": {},
   "source": [
    "### Working with climate_vpd"
   ]
  },
  {
   "cell_type": "code",
   "execution_count": 45,
   "metadata": {},
   "outputs": [
    {
     "data": {
      "text/plain": [
       "<matplotlib.axes._subplots.AxesSubplot at 0x7f4eac8b4668>"
      ]
     },
     "execution_count": 45,
     "metadata": {},
     "output_type": "execute_result"
    },
    {
     "data": {
      "image/png": "[encoded data removed]",
      "text/plain": [
       "<Figure size 432x288 with 1 Axes>"
      ]
     },
     "metadata": {
      "needs_background": "light"
     },
     "output_type": "display_data"
    }
   ],
   "source": [
    "sns.distplot(combined.climate_vpd)"
   ]
  },
  {
   "cell_type": "markdown",
   "metadata": {},
   "source": [
    "### Working with climate_vs"
   ]
  },
  {
   "cell_type": "code",
   "execution_count": 46,
   "metadata": {},
   "outputs": [
    {
     "data": {
      "text/plain": [
       "<matplotlib.axes._subplots.AxesSubplot at 0x7f4eac8cc4a8>"
      ]
     },
     "execution_count": 46,
     "metadata": {},
     "output_type": "execute_result"
    },
    {
     "data": {
      "image/png": "[encoded data removed]",
      "text/plain": [
       "<Figure size 432x288 with 1 Axes>"
      ]
     },
     "metadata": {
      "needs_background": "light"
     },
     "output_type": "display_data"
    }
   ],
   "source": [
    "sns.distplot(combined.climate_vs)"
   ]
  },
  {
   "cell_type": "markdown",
   "metadata": {},
   "source": [
    "### Working with elevation"
   ]
  },
  {
   "cell_type": "code",
   "execution_count": 47,
   "metadata": {},
   "outputs": [
    {
     "data": {
      "text/plain": [
       "<matplotlib.axes._subplots.AxesSubplot at 0x7f4eac717400>"
      ]
     },
     "execution_count": 47,
     "metadata": {},
     "output_type": "execute_result"
    },
    {
     "data": {
      "image/png": "[encoded data removed]",
      "text/plain": [
       "<Figure size 432x288 with 1 Axes>"
      ]
     },
     "metadata": {
      "needs_background": "light"
     },
     "output_type": "display_data"
    }
   ],
   "source": [
    "sns.distplot(combined.elevation)"
   ]
  },
  {
   "cell_type": "markdown",
   "metadata": {},
   "source": [
    "### Working with landcover_0"
   ]
  },
  {
   "cell_type": "code",
   "execution_count": 48,
   "metadata": {},
   "outputs": [
    {
     "data": {
      "text/plain": [
       "<matplotlib.axes._subplots.AxesSubplot at 0x7f4eac654f98>"
      ]
     },
     "execution_count": 48,
     "metadata": {},
     "output_type": "execute_result"
    },
    {
     "data": {
      "image/png": "[encoded data removed]",
      "text/plain": [
       "<Figure size 432x288 with 1 Axes>"
      ]
     },
     "metadata": {
      "needs_background": "light"
     },
     "output_type": "display_data"
    }
   ],
   "source": [
    "sns.distplot(combined.landcover_0)"
   ]
  },
  {
   "cell_type": "code",
   "execution_count": 49,
   "metadata": {},
   "outputs": [],
   "source": [
    "#Dropping the landcover_0 column\n",
    "combined.drop('landcover_0',1,inplace=True)"
   ]
  },
  {
   "cell_type": "markdown",
   "metadata": {},
   "source": [
    "### Working with landcover_1"
   ]
  },
  {
   "cell_type": "code",
   "execution_count": 50,
   "metadata": {},
   "outputs": [
    {
     "data": {
      "text/plain": [
       "<matplotlib.axes._subplots.AxesSubplot at 0x7f4eac55c4a8>"
      ]
     },
     "execution_count": 50,
     "metadata": {},
     "output_type": "execute_result"
    },
    {
     "data": {
      "image/png": "[encoded data removed]",
      "text/plain": [
       "<Figure size 432x288 with 1 Axes>"
      ]
     },
     "metadata": {
      "needs_background": "light"
     },
     "output_type": "display_data"
    }
   ],
   "source": [
    "sns.distplot(combined.landcover_1)"
   ]
  },
  {
   "cell_type": "code",
   "execution_count": 51,
   "metadata": {},
   "outputs": [],
   "source": [
    "#Dropping the landcover_1 column\n",
    "combined.drop('landcover_1',1,inplace=True)"
   ]
  },
  {
   "cell_type": "markdown",
   "metadata": {},
   "source": [
    "### Working with landcover_2"
   ]
  },
  {
   "cell_type": "code",
   "execution_count": 52,
   "metadata": {},
   "outputs": [
    {
     "data": {
      "text/plain": [
       "<matplotlib.axes._subplots.AxesSubplot at 0x7f4eac4558d0>"
      ]
     },
     "execution_count": 52,
     "metadata": {},
     "output_type": "execute_result"
    },
    {
     "data": {
      "image/png": "[encoded data removed]",
      "text/plain": [
       "<Figure size 432x288 with 1 Axes>"
      ]
     },
     "metadata": {
      "needs_background": "light"
     },
     "output_type": "display_data"
    }
   ],
   "source": [
    "sns.distplot(combined.landcover_2)"
   ]
  },
  {
   "cell_type": "markdown",
   "metadata": {},
   "source": [
    "### Working with landcover_3"
   ]
  },
  {
   "cell_type": "code",
   "execution_count": 53,
   "metadata": {},
   "outputs": [
    {
     "data": {
      "text/plain": [
       "<matplotlib.axes._subplots.AxesSubplot at 0x7f4eac390208>"
      ]
     },
     "execution_count": 53,
     "metadata": {},
     "output_type": "execute_result"
    },
    {
     "data": {
      "image/png": "[encoded data removed]",
      "text/plain": [
       "<Figure size 432x288 with 1 Axes>"
      ]
     },
     "metadata": {
      "needs_background": "light"
     },
     "output_type": "display_data"
    }
   ],
   "source": [
    "sns.distplot(combined.landcover_3)"
   ]
  },
  {
   "cell_type": "code",
   "execution_count": 54,
   "metadata": {},
   "outputs": [],
   "source": [
    "#Dropping the landcover_3 column\n",
    "combined.drop('landcover_3',1,inplace=True)"
   ]
  },
  {
   "cell_type": "markdown",
   "metadata": {},
   "source": [
    "### Working with landcover_4"
   ]
  },
  {
   "cell_type": "code",
   "execution_count": 55,
   "metadata": {},
   "outputs": [
    {
     "data": {
      "text/plain": [
       "<matplotlib.axes._subplots.AxesSubplot at 0x7f4eac2953c8>"
      ]
     },
     "execution_count": 55,
     "metadata": {},
     "output_type": "execute_result"
    },
    {
     "data": {
      "image/png": "[encoded data removed]",
      "text/plain": [
       "<Figure size 432x288 with 1 Axes>"
      ]
     },
     "metadata": {
      "needs_background": "light"
     },
     "output_type": "display_data"
    }
   ],
   "source": [
    "sns.distplot(combined.landcover_4)"
   ]
  },
  {
   "cell_type": "markdown",
   "metadata": {},
   "source": [
    "### Working with landcover_5"
   ]
  },
  {
   "cell_type": "code",
   "execution_count": 56,
   "metadata": {},
   "outputs": [
    {
     "data": {
      "text/plain": [
       "<matplotlib.axes._subplots.AxesSubplot at 0x7f4e9f7eda58>"
      ]
     },
     "execution_count": 56,
     "metadata": {},
     "output_type": "execute_result"
    },
    {
     "data": {
      "image/png": "[encoded data removed]",
      "text/plain": [
       "<Figure size 432x288 with 1 Axes>"
      ]
     },
     "metadata": {
      "needs_background": "light"
     },
     "output_type": "display_data"
    }
   ],
   "source": [
    "sns.distplot(combined.landcover_5)"
   ]
  },
  {
   "cell_type": "code",
   "execution_count": 57,
   "metadata": {},
   "outputs": [],
   "source": [
    "#Dropping the landcover_5 column\n",
    "combined.drop('landcover_5',1,inplace=True)"
   ]
  },
  {
   "cell_type": "markdown",
   "metadata": {},
   "source": [
    "### Working with landcover_6"
   ]
  },
  {
   "cell_type": "code",
   "execution_count": 58,
   "metadata": {},
   "outputs": [
    {
     "data": {
      "text/plain": [
       "<matplotlib.axes._subplots.AxesSubplot at 0x7f4ead18f080>"
      ]
     },
     "execution_count": 58,
     "metadata": {},
     "output_type": "execute_result"
    },
    {
     "data": {
      "image/png": "[encoded data removed]",
      "text/plain": [
       "<Figure size 432x288 with 1 Axes>"
      ]
     },
     "metadata": {
      "needs_background": "light"
     },
     "output_type": "display_data"
    }
   ],
   "source": [
    "sns.distplot(combined.landcover_6)"
   ]
  },
  {
   "cell_type": "markdown",
   "metadata": {},
   "source": [
    "### Working with landcover_7"
   ]
  },
  {
   "cell_type": "code",
   "execution_count": 59,
   "metadata": {},
   "outputs": [
    {
     "data": {
      "text/plain": [
       "<matplotlib.axes._subplots.AxesSubplot at 0x7f4e9f6a3358>"
      ]
     },
     "execution_count": 59,
     "metadata": {},
     "output_type": "execute_result"
    },
    {
     "data": {
      "image/png": "[encoded data removed]",
      "text/plain": [
       "<Figure size 432x288 with 1 Axes>"
      ]
     },
     "metadata": {
      "needs_background": "light"
     },
     "output_type": "display_data"
    }
   ],
   "source": [
    "sns.distplot(combined.landcover_7)"
   ]
  },
  {
   "cell_type": "code",
   "execution_count": 60,
   "metadata": {},
   "outputs": [],
   "source": [
    "#Dropping the landcover_7 column\n",
    "combined.drop('landcover_7',1,inplace=True)"
   ]
  },
  {
   "cell_type": "markdown",
   "metadata": {},
   "source": [
    "### Working with landcover_8"
   ]
  },
  {
   "cell_type": "code",
   "execution_count": 61,
   "metadata": {},
   "outputs": [
    {
     "data": {
      "text/plain": [
       "<matplotlib.axes._subplots.AxesSubplot at 0x7f4e9f57d5f8>"
      ]
     },
     "execution_count": 61,
     "metadata": {},
     "output_type": "execute_result"
    },
    {
     "data": {
      "image/png": "[encoded data removed]",
      "text/plain": [
       "<Figure size 432x288 with 1 Axes>"
      ]
     },
     "metadata": {
      "needs_background": "light"
     },
     "output_type": "display_data"
    }
   ],
   "source": [
    "sns.distplot(combined.landcover_8)"
   ]
  },
  {
   "cell_type": "code",
   "execution_count": 62,
   "metadata": {},
   "outputs": [],
   "source": [
    "#Dropping the landcover_5 column\n",
    "combined.drop('landcover_8',1,inplace=True)"
   ]
  },
  {
   "cell_type": "code",
   "execution_count": 63,
   "metadata": {},
   "outputs": [
    {
     "data": {
      "text/plain": [
       "Index(['area', 'lat', 'lon', 'climate_aet', 'climate_pdsi', 'climate_pet',\n",
       "       'climate_soil', 'climate_srad', 'climate_tmmn', 'climate_tmmx',\n",
       "       'climate_vap', 'climate_vpd', 'climate_vs', 'elevation', 'landcover_2',\n",
       "       'landcover_4', 'landcover_6', 'population_density', 'precipitation',\n",
       "       'year', 'month', 'day'],\n",
       "      dtype='object')"
      ]
     },
     "execution_count": 63,
     "metadata": {},
     "output_type": "execute_result"
    }
   ],
   "source": [
    "combined.columns"
   ]
  },
  {
   "cell_type": "markdown",
   "metadata": {},
   "source": [
    "### Working with population_density"
   ]
  },
  {
   "cell_type": "code",
   "execution_count": 64,
   "metadata": {},
   "outputs": [
    {
     "data": {
      "text/plain": [
       "<matplotlib.axes._subplots.AxesSubplot at 0x7f4e9f796198>"
      ]
     },
     "execution_count": 64,
     "metadata": {},
     "output_type": "execute_result"
    },
    {
     "data": {
      "image/png": "[encoded data removed]",
      "text/plain": [
       "<Figure size 432x288 with 1 Axes>"
      ]
     },
     "metadata": {
      "needs_background": "light"
     },
     "output_type": "display_data"
    }
   ],
   "source": [
    "sns.distplot(combined.population_density)"
   ]
  },
  {
   "cell_type": "code",
   "execution_count": 65,
   "metadata": {},
   "outputs": [
    {
     "data": {
      "text/plain": [
       "23800"
      ]
     },
     "execution_count": 65,
     "metadata": {},
     "output_type": "execute_result"
    }
   ],
   "source": [
    "combined['population_density'].isnull().sum()\n",
    "#There are missing values in the population density feature"
   ]
  },
  {
   "cell_type": "code",
   "execution_count": 66,
   "metadata": {},
   "outputs": [],
   "source": [
    "#Replacing with the mean, since the data is not a normal distribution\n",
    "#And there are no outliers"
   ]
  },
  {
   "cell_type": "code",
   "execution_count": 67,
   "metadata": {},
   "outputs": [],
   "source": [
    "combined[\"population_density\"] = combined[\"population_density\"].fillna(combined[\"population_density\"].mean())"
   ]
  },
  {
   "cell_type": "markdown",
   "metadata": {},
   "source": [
    "### Working with the Precipitation"
   ]
  },
  {
   "cell_type": "code",
   "execution_count": 68,
   "metadata": {},
   "outputs": [
    {
     "data": {
      "text/plain": [
       "<matplotlib.axes._subplots.AxesSubplot at 0x7f4eac8e7c88>"
      ]
     },
     "execution_count": 68,
     "metadata": {},
     "output_type": "execute_result"
    },
    {
     "data": {
      "image/png": "[encoded data removed]",
      "text/plain": [
       "<Figure size 432x288 with 1 Axes>"
      ]
     },
     "metadata": {
      "needs_background": "light"
     },
     "output_type": "display_data"
    }
   ],
   "source": [
    "sns.distplot(combined.precipitation)"
   ]
  },
  {
   "cell_type": "markdown",
   "metadata": {},
   "source": [
    "Now our Data has been Preprocessed, Lets Create our Machine Learning."
   ]
  },
  {
   "cell_type": "code",
   "execution_count": 69,
   "metadata": {},
   "outputs": [],
   "source": [
    "#Recover train test target\n",
    "def recover_train_test_target():\n",
    "    global combined\n",
    "    \n",
    "    targets = pd.read_csv('train.csv', usecols=['burn_area'])['burn_area'].values\n",
    "    train = combined.iloc[:626644]\n",
    "    test = combined.iloc[626644:]\n",
    "\n",
    "    return train, test, targets"
   ]
  },
  {
   "cell_type": "code",
   "execution_count": 70,
   "metadata": {},
   "outputs": [],
   "source": [
    "train, test, targets = recover_train_test_target()"
   ]
  },
  {
   "cell_type": "code",
   "execution_count": 71,
   "metadata": {},
   "outputs": [],
   "source": [
    "from sklearn.ensemble import RandomForestRegressor\n",
    "from sklearn.feature_selection import SelectFromModel"
   ]
  },
  {
   "cell_type": "code",
   "execution_count": 72,
   "metadata": {},
   "outputs": [],
   "source": [
    "reg = RandomForestRegressor(n_estimators=50, max_features='sqrt')"
   ]
  },
  {
   "cell_type": "code",
   "execution_count": 73,
   "metadata": {},
   "outputs": [
    {
     "data": {
      "text/plain": [
       "RandomForestRegressor(bootstrap=True, ccp_alpha=0.0, criterion='mse',\n",
       "                      max_depth=None, max_features='sqrt', max_leaf_nodes=None,\n",
       "                      max_samples=None, min_impurity_decrease=0.0,\n",
       "                      min_impurity_split=None, min_samples_leaf=1,\n",
       "                      min_samples_split=2, min_weight_fraction_leaf=0.0,\n",
       "                      n_estimators=50, n_jobs=None, oob_score=False,\n",
       "                      random_state=None, verbose=0, warm_start=False)"
      ]
     },
     "execution_count": 73,
     "metadata": {},
     "output_type": "execute_result"
    }
   ],
   "source": [
    "reg.fit(train,targets)"
   ]
  },
  {
   "cell_type": "code",
   "execution_count": 74,
   "metadata": {},
   "outputs": [],
   "source": [
    "#Checking importance of each feature\n",
    "features = pd.DataFrame()\n",
    "features['feature'] = train.columns\n",
    "features['importance'] = reg.feature_importances_\n",
    "features.sort_values(by=['importance'], ascending=True, inplace=True)\n",
    "features.set_index('feature', inplace=True)"
   ]
  },
  {
   "cell_type": "code",
   "execution_count": 75,
   "metadata": {},
   "outputs": [
    {
     "data": {
      "text/plain": [
       "<matplotlib.axes._subplots.AxesSubplot at 0x7f4e9afc1a90>"
      ]
     },
     "execution_count": 75,
     "metadata": {},
     "output_type": "execute_result"
    },
    {
     "data": {
      "image/png": "[encoded data removed]",
      "text/plain": [
       "<Figure size 1800x1800 with 1 Axes>"
      ]
     },
     "metadata": {
      "needs_background": "light"
     },
     "output_type": "display_data"
    }
   ],
   "source": [
    "features.plot(kind='barh', figsize=(25,25))"
   ]
  },
  {
   "cell_type": "markdown",
   "metadata": {},
   "source": [
    "### Precipitation,Climate_vap, latitude plays a vital role in the burn_area"
   ]
  },
  {
   "cell_type": "code",
   "execution_count": 76,
   "metadata": {},
   "outputs": [
    {
     "name": "stdout",
     "output_type": "stream",
     "text": [
      "(626644, 13)\n"
     ]
    }
   ],
   "source": [
    "#Dropping the redundant feature\n",
    "model = SelectFromModel(reg,prefit=True)\n",
    "train_reduced = model.transform(train)\n",
    "print(train_reduced.shape)"
   ]
  },
  {
   "cell_type": "code",
   "execution_count": 77,
   "metadata": {},
   "outputs": [
    {
     "name": "stdout",
     "output_type": "stream",
     "text": [
      "(137556, 13)\n"
     ]
    }
   ],
   "source": [
    "mtest_reduced = model.transform(test)\n",
    "print(mtest_reduced.shape)"
   ]
  },
  {
   "cell_type": "code",
   "execution_count": 78,
   "metadata": {},
   "outputs": [],
   "source": [
    "#Splitting the data in training and testing\n",
    "from sklearn.model_selection import train_test_split"
   ]
  },
  {
   "cell_type": "code",
   "execution_count": 79,
   "metadata": {},
   "outputs": [],
   "source": [
    "X_train, X_test, y_train, y_test = train_test_split(train_reduced,targets, test_size=0.10, random_state=42)"
   ]
  },
  {
   "cell_type": "code",
   "execution_count": 80,
   "metadata": {},
   "outputs": [],
   "source": [
    "rf = RandomForestRegressor()"
   ]
  },
  {
   "cell_type": "code",
   "execution_count": 81,
   "metadata": {},
   "outputs": [
    {
     "data": {
      "text/plain": [
       "RandomForestRegressor(bootstrap=True, ccp_alpha=0.0, criterion='mse',\n",
       "                      max_depth=None, max_features='auto', max_leaf_nodes=None,\n",
       "                      max_samples=None, min_impurity_decrease=0.0,\n",
       "                      min_impurity_split=None, min_samples_leaf=1,\n",
       "                      min_samples_split=2, min_weight_fraction_leaf=0.0,\n",
       "                      n_estimators=100, n_jobs=None, oob_score=False,\n",
       "                      random_state=None, verbose=0, warm_start=False)"
      ]
     },
     "execution_count": 81,
     "metadata": {},
     "output_type": "execute_result"
    }
   ],
   "source": [
    "rf.fit(X_train,y_train)"
   ]
  },
  {
   "cell_type": "code",
   "execution_count": 82,
   "metadata": {},
   "outputs": [],
   "source": [
    "#Check metric score (RMSE)\n",
    "from sklearn.metrics import mean_squared_error"
   ]
  },
  {
   "cell_type": "code",
   "execution_count": 83,
   "metadata": {},
   "outputs": [],
   "source": [
    "y_pred = rf.predict(X_test)"
   ]
  },
  {
   "cell_type": "code",
   "execution_count": 84,
   "metadata": {},
   "outputs": [],
   "source": [
    "RMSE = np.sqrt(mean_squared_error(y_test, y_pred))"
   ]
  },
  {
   "cell_type": "code",
   "execution_count": 85,
   "metadata": {},
   "outputs": [
    {
     "name": "stdout",
     "output_type": "stream",
     "text": [
      "The RMSE score is: 0.0239923620287626\n"
     ]
    }
   ],
   "source": [
    "print(f'The RMSE score is: {RMSE}')"
   ]
  },
  {
   "cell_type": "markdown",
   "metadata": {},
   "source": [
    "## Generating Prediction for Zindi"
   ]
  },
  {
   "cell_type": "code",
   "execution_count": 86,
   "metadata": {},
   "outputs": [],
   "source": [
    "output = rf.predict(mtest_reduced).astype(float)\n",
    "df_output = pd.DataFrame()\n",
    "aux = pd.read_csv('test.csv')\n",
    "df_output['ID'] = aux['ID']\n",
    "df_output['burn_area'] = output\n",
    "df_output[['ID','burn_area']].to_csv('prediction.csv', index=False)"
   ]
  },
  {
   "cell_type": "code",
   "execution_count": null,
   "metadata": {},
   "outputs": [],
   "source": []
  }
 ],
 "metadata": {
  "kernelspec": {
   "display_name": "Python 3",
   "language": "python",
   "name": "python3"
  },
  "language_info": {
   "codemirror_mode": {
    "name": "ipython",
    "version": 3
   },
   "file_extension": ".py",
   "mimetype": "text/x-python",
   "name": "python",
   "nbconvert_exporter": "python",
   "pygments_lexer": "ipython3",
   "version": "3.6.9"
  }
 },
 "nbformat": 4,
 "nbformat_minor": 4
}
